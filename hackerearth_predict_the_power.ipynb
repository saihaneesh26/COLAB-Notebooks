{
  "nbformat": 4,
  "nbformat_minor": 0,
  "metadata": {
    "colab": {
      "name": "hackerearth-predict_the_power.ipynb",
      "provenance": [],
      "collapsed_sections": [],
      "authorship_tag": "ABX9TyNJxCz474rti+VGUfJgK71h",
      "include_colab_link": true
    },
    "kernelspec": {
      "name": "python3",
      "display_name": "Python 3"
    },
    "language_info": {
      "name": "python"
    },
    "accelerator": "GPU"
  },
  "cells": [
    {
      "cell_type": "markdown",
      "metadata": {
        "id": "view-in-github",
        "colab_type": "text"
      },
      "source": [
        "<a href=\"https://colab.research.google.com/github/saihaneesh26/COLAB-Notebooks/blob/main/hackerearth_predict_the_power.ipynb\" target=\"_parent\"><img src=\"https://colab.research.google.com/assets/colab-badge.svg\" alt=\"Open In Colab\"/></a>"
      ]
    },
    {
      "cell_type": "code",
      "metadata": {
        "id": "S7E-EHH43rIb"
      },
      "source": [
        "#highest accuracy is obtained using RandomForestClassifier - 95.01% - n_estimators=100\n",
        "#DecisionTree - 93%\n",
        "#SVM -  60%\n",
        "#other  approx 30-50%\n",
        "#Rank in contest - 135\n",
        "import tensorflow as tf\n",
        "import numpy as np\n",
        "import pandas as pd\n",
        "from sklearn.preprocessing import StandardScaler\n",
        "from sklearn.model_selection import train_test_split"
      ],
      "execution_count": 1,
      "outputs": []
    },
    {
      "cell_type": "code",
      "metadata": {
        "colab": {
          "base_uri": "https://localhost:8080/",
          "height": 774
        },
        "id": "yGqGSeza44Ji",
        "outputId": "0b7ccae6-7ead-44ab-ee70-876a954e2fe3"
      },
      "source": [
        "main_db = pd.read_csv('/content/train.csv')\n",
        "main_db"
      ],
      "execution_count": 3,
      "outputs": [
        {
          "output_type": "execute_result",
          "data": {
            "text/html": [
              "<div>\n",
              "<style scoped>\n",
              "    .dataframe tbody tr th:only-of-type {\n",
              "        vertical-align: middle;\n",
              "    }\n",
              "\n",
              "    .dataframe tbody tr th {\n",
              "        vertical-align: top;\n",
              "    }\n",
              "\n",
              "    .dataframe thead th {\n",
              "        text-align: right;\n",
              "    }\n",
              "</style>\n",
              "<table border=\"1\" class=\"dataframe\">\n",
              "  <thead>\n",
              "    <tr style=\"text-align: right;\">\n",
              "      <th></th>\n",
              "      <th>tracking_id</th>\n",
              "      <th>datetime</th>\n",
              "      <th>wind_speed(m/s)</th>\n",
              "      <th>atmospheric_temperature(°C)</th>\n",
              "      <th>shaft_temperature(°C)</th>\n",
              "      <th>blades_angle(°)</th>\n",
              "      <th>gearbox_temperature(°C)</th>\n",
              "      <th>engine_temperature(°C)</th>\n",
              "      <th>motor_torque(N-m)</th>\n",
              "      <th>generator_temperature(°C)</th>\n",
              "      <th>atmospheric_pressure(Pascal)</th>\n",
              "      <th>area_temperature(°C)</th>\n",
              "      <th>windmill_body_temperature(°C)</th>\n",
              "      <th>wind_direction(°)</th>\n",
              "      <th>resistance(ohm)</th>\n",
              "      <th>rotor_torque(N-m)</th>\n",
              "      <th>turbine_status</th>\n",
              "      <th>cloud_level</th>\n",
              "      <th>blade_length(m)</th>\n",
              "      <th>blade_breadth(m)</th>\n",
              "      <th>windmill_height(m)</th>\n",
              "      <th>windmill_generated_power(kW/h)</th>\n",
              "    </tr>\n",
              "  </thead>\n",
              "  <tbody>\n",
              "    <tr>\n",
              "      <th>0</th>\n",
              "      <td>WM_33725</td>\n",
              "      <td>2019-08-04 14:33:20</td>\n",
              "      <td>94.820023</td>\n",
              "      <td>-99.000000</td>\n",
              "      <td>41.723019</td>\n",
              "      <td>-0.903423</td>\n",
              "      <td>82.410573</td>\n",
              "      <td>42.523015</td>\n",
              "      <td>2563.124522</td>\n",
              "      <td>76.665560</td>\n",
              "      <td>103402.961872</td>\n",
              "      <td>26.897875</td>\n",
              "      <td>NaN</td>\n",
              "      <td>239.836388</td>\n",
              "      <td>2730.310605</td>\n",
              "      <td>42.084666</td>\n",
              "      <td>BA</td>\n",
              "      <td>Medium</td>\n",
              "      <td>2.217542</td>\n",
              "      <td>0.314065</td>\n",
              "      <td>24.281689</td>\n",
              "      <td>6.766521</td>\n",
              "    </tr>\n",
              "    <tr>\n",
              "      <th>1</th>\n",
              "      <td>WM_698</td>\n",
              "      <td>2018-11-05 10:13:20</td>\n",
              "      <td>241.832734</td>\n",
              "      <td>27.764785</td>\n",
              "      <td>-99.000000</td>\n",
              "      <td>-99.000000</td>\n",
              "      <td>44.104919</td>\n",
              "      <td>46.258870</td>\n",
              "      <td>2372.384119</td>\n",
              "      <td>78.129803</td>\n",
              "      <td>17030.904078</td>\n",
              "      <td>39.801469</td>\n",
              "      <td>NaN</td>\n",
              "      <td>337.944723</td>\n",
              "      <td>1780.207200</td>\n",
              "      <td>107.888643</td>\n",
              "      <td>A2</td>\n",
              "      <td>Medium</td>\n",
              "      <td>4.210346</td>\n",
              "      <td>0.448494</td>\n",
              "      <td>27.262139</td>\n",
              "      <td>5.966275</td>\n",
              "    </tr>\n",
              "    <tr>\n",
              "      <th>2</th>\n",
              "      <td>WM_39146</td>\n",
              "      <td>2019-09-14 14:03:20</td>\n",
              "      <td>95.484724</td>\n",
              "      <td>NaN</td>\n",
              "      <td>41.855473</td>\n",
              "      <td>12.652763</td>\n",
              "      <td>42.322098</td>\n",
              "      <td>42.878552</td>\n",
              "      <td>1657.169646</td>\n",
              "      <td>67.654469</td>\n",
              "      <td>16125.927107</td>\n",
              "      <td>36.116065</td>\n",
              "      <td>45.033197</td>\n",
              "      <td>227.850294</td>\n",
              "      <td>1666.049900</td>\n",
              "      <td>-42.931459</td>\n",
              "      <td>ABC</td>\n",
              "      <td>Medium</td>\n",
              "      <td>2.719475</td>\n",
              "      <td>0.302321</td>\n",
              "      <td>27.366127</td>\n",
              "      <td>2.874342</td>\n",
              "    </tr>\n",
              "    <tr>\n",
              "      <th>3</th>\n",
              "      <td>WM_6757</td>\n",
              "      <td>2018-12-25 15:33:20</td>\n",
              "      <td>238.819424</td>\n",
              "      <td>-99.000000</td>\n",
              "      <td>45.443914</td>\n",
              "      <td>15.115323</td>\n",
              "      <td>44.759643</td>\n",
              "      <td>47.282101</td>\n",
              "      <td>2888.134079</td>\n",
              "      <td>95.389974</td>\n",
              "      <td>18689.732336</td>\n",
              "      <td>46.020045</td>\n",
              "      <td>44.827154</td>\n",
              "      <td>492.081520</td>\n",
              "      <td>1964.502895</td>\n",
              "      <td>42.744596</td>\n",
              "      <td>ABC</td>\n",
              "      <td>NaN</td>\n",
              "      <td>4.857385</td>\n",
              "      <td>0.367140</td>\n",
              "      <td>24.287767</td>\n",
              "      <td>14.851089</td>\n",
              "    </tr>\n",
              "    <tr>\n",
              "      <th>4</th>\n",
              "      <td>WM_21521</td>\n",
              "      <td>2019-05-04 03:13:20</td>\n",
              "      <td>10.722890</td>\n",
              "      <td>NaN</td>\n",
              "      <td>41.981183</td>\n",
              "      <td>1.715696</td>\n",
              "      <td>-17.616459</td>\n",
              "      <td>43.469852</td>\n",
              "      <td>781.695419</td>\n",
              "      <td>37.423065</td>\n",
              "      <td>114468.169007</td>\n",
              "      <td>34.572941</td>\n",
              "      <td>-99.000000</td>\n",
              "      <td>259.274601</td>\n",
              "      <td>1177.516152</td>\n",
              "      <td>13.387289</td>\n",
              "      <td>AAA</td>\n",
              "      <td>Medium</td>\n",
              "      <td>NaN</td>\n",
              "      <td>0.453374</td>\n",
              "      <td>27.971650</td>\n",
              "      <td>3.519074</td>\n",
              "    </tr>\n",
              "    <tr>\n",
              "      <th>...</th>\n",
              "      <td>...</td>\n",
              "      <td>...</td>\n",
              "      <td>...</td>\n",
              "      <td>...</td>\n",
              "      <td>...</td>\n",
              "      <td>...</td>\n",
              "      <td>...</td>\n",
              "      <td>...</td>\n",
              "      <td>...</td>\n",
              "      <td>...</td>\n",
              "      <td>...</td>\n",
              "      <td>...</td>\n",
              "      <td>...</td>\n",
              "      <td>...</td>\n",
              "      <td>...</td>\n",
              "      <td>...</td>\n",
              "      <td>...</td>\n",
              "      <td>...</td>\n",
              "      <td>...</td>\n",
              "      <td>...</td>\n",
              "      <td>...</td>\n",
              "      <td>...</td>\n",
              "    </tr>\n",
              "    <tr>\n",
              "      <th>3031</th>\n",
              "      <td>WM_343</td>\n",
              "      <td>2018-10-31 14:43:20</td>\n",
              "      <td>-98.049206</td>\n",
              "      <td>23.399536</td>\n",
              "      <td>45.255440</td>\n",
              "      <td>-99.000000</td>\n",
              "      <td>139.892847</td>\n",
              "      <td>45.643332</td>\n",
              "      <td>2335.167123</td>\n",
              "      <td>87.335619</td>\n",
              "      <td>406286.672013</td>\n",
              "      <td>45.649861</td>\n",
              "      <td>48.364021</td>\n",
              "      <td>46.896265</td>\n",
              "      <td>1764.516102</td>\n",
              "      <td>NaN</td>\n",
              "      <td>AB</td>\n",
              "      <td>Low</td>\n",
              "      <td>4.751671</td>\n",
              "      <td>0.387239</td>\n",
              "      <td>4.783102</td>\n",
              "      <td>5.864100</td>\n",
              "    </tr>\n",
              "    <tr>\n",
              "      <th>3032</th>\n",
              "      <td>WM_11599</td>\n",
              "      <td>2019-01-30 17:33:20</td>\n",
              "      <td>-52.451325</td>\n",
              "      <td>18.560839</td>\n",
              "      <td>43.702441</td>\n",
              "      <td>22.351644</td>\n",
              "      <td>-49.759930</td>\n",
              "      <td>44.325445</td>\n",
              "      <td>2876.725086</td>\n",
              "      <td>94.751370</td>\n",
              "      <td>19833.497935</td>\n",
              "      <td>42.473399</td>\n",
              "      <td>46.119237</td>\n",
              "      <td>525.735739</td>\n",
              "      <td>1955.173510</td>\n",
              "      <td>43.739092</td>\n",
              "      <td>BD</td>\n",
              "      <td>Medium</td>\n",
              "      <td>-1.956699</td>\n",
              "      <td>0.356647</td>\n",
              "      <td>25.042444</td>\n",
              "      <td>20.127939</td>\n",
              "    </tr>\n",
              "    <tr>\n",
              "      <th>3033</th>\n",
              "      <td>WM_36921</td>\n",
              "      <td>2019-08-27 14:33:20</td>\n",
              "      <td>94.285237</td>\n",
              "      <td>36.811930</td>\n",
              "      <td>42.528973</td>\n",
              "      <td>70.563171</td>\n",
              "      <td>39.636977</td>\n",
              "      <td>40.872826</td>\n",
              "      <td>1005.638589</td>\n",
              "      <td>66.874782</td>\n",
              "      <td>16391.209064</td>\n",
              "      <td>34.940591</td>\n",
              "      <td>43.713761</td>\n",
              "      <td>184.490180</td>\n",
              "      <td>1662.273444</td>\n",
              "      <td>21.141816</td>\n",
              "      <td>A</td>\n",
              "      <td>Medium</td>\n",
              "      <td>3.429011</td>\n",
              "      <td>0.346626</td>\n",
              "      <td>26.110415</td>\n",
              "      <td>2.264522</td>\n",
              "    </tr>\n",
              "    <tr>\n",
              "      <th>3034</th>\n",
              "      <td>WM_1067</td>\n",
              "      <td>2018-11-08 09:13:20</td>\n",
              "      <td>96.358539</td>\n",
              "      <td>17.655203</td>\n",
              "      <td>42.801154</td>\n",
              "      <td>37.758890</td>\n",
              "      <td>39.563749</td>\n",
              "      <td>41.172434</td>\n",
              "      <td>1123.155444</td>\n",
              "      <td>68.458098</td>\n",
              "      <td>NaN</td>\n",
              "      <td>34.865652</td>\n",
              "      <td>45.994392</td>\n",
              "      <td>471.604924</td>\n",
              "      <td>-99.000000</td>\n",
              "      <td>22.558293</td>\n",
              "      <td>NaN</td>\n",
              "      <td>Low</td>\n",
              "      <td>NaN</td>\n",
              "      <td>0.374545</td>\n",
              "      <td>25.699050</td>\n",
              "      <td>3.016352</td>\n",
              "    </tr>\n",
              "    <tr>\n",
              "      <th>3035</th>\n",
              "      <td>WM_994</td>\n",
              "      <td>2018-11-07 20:23:20</td>\n",
              "      <td>98.790034</td>\n",
              "      <td>34.469598</td>\n",
              "      <td>46.054922</td>\n",
              "      <td>96.234959</td>\n",
              "      <td>41.171223</td>\n",
              "      <td>43.252106</td>\n",
              "      <td>1001.000000</td>\n",
              "      <td>70.223758</td>\n",
              "      <td>16540.950787</td>\n",
              "      <td>45.823392</td>\n",
              "      <td>48.669037</td>\n",
              "      <td>224.056672</td>\n",
              "      <td>1663.379955</td>\n",
              "      <td>-99.000000</td>\n",
              "      <td>A</td>\n",
              "      <td>Low</td>\n",
              "      <td>1.781507</td>\n",
              "      <td>0.229574</td>\n",
              "      <td>22.876990</td>\n",
              "      <td>1.581180</td>\n",
              "    </tr>\n",
              "  </tbody>\n",
              "</table>\n",
              "<p>3036 rows × 22 columns</p>\n",
              "</div>"
            ],
            "text/plain": [
              "     tracking_id  ... windmill_generated_power(kW/h)\n",
              "0       WM_33725  ...                       6.766521\n",
              "1         WM_698  ...                       5.966275\n",
              "2       WM_39146  ...                       2.874342\n",
              "3        WM_6757  ...                      14.851089\n",
              "4       WM_21521  ...                       3.519074\n",
              "...          ...  ...                            ...\n",
              "3031      WM_343  ...                       5.864100\n",
              "3032    WM_11599  ...                      20.127939\n",
              "3033    WM_36921  ...                       2.264522\n",
              "3034     WM_1067  ...                       3.016352\n",
              "3035      WM_994  ...                       1.581180\n",
              "\n",
              "[3036 rows x 22 columns]"
            ]
          },
          "metadata": {
            "tags": []
          },
          "execution_count": 3
        }
      ]
    },
    {
      "cell_type": "code",
      "metadata": {
        "colab": {
          "base_uri": "https://localhost:8080/"
        },
        "id": "YPox7lil5GSs",
        "outputId": "958241a5-cf39-43b8-8770-497fed95e294"
      },
      "source": [
        "main_db.columns"
      ],
      "execution_count": 4,
      "outputs": [
        {
          "output_type": "execute_result",
          "data": {
            "text/plain": [
              "Index(['tracking_id', 'datetime', 'wind_speed(m/s)',\n",
              "       'atmospheric_temperature(°C)', 'shaft_temperature(°C)',\n",
              "       'blades_angle(°)', 'gearbox_temperature(°C)', 'engine_temperature(°C)',\n",
              "       'motor_torque(N-m)', 'generator_temperature(°C)',\n",
              "       'atmospheric_pressure(Pascal)', 'area_temperature(°C)',\n",
              "       'windmill_body_temperature(°C)', 'wind_direction(°)', 'resistance(ohm)',\n",
              "       'rotor_torque(N-m)', 'turbine_status', 'cloud_level', 'blade_length(m)',\n",
              "       'blade_breadth(m)', 'windmill_height(m)',\n",
              "       'windmill_generated_power(kW/h)'],\n",
              "      dtype='object')"
            ]
          },
          "metadata": {
            "tags": []
          },
          "execution_count": 4
        }
      ]
    },
    {
      "cell_type": "code",
      "metadata": {
        "id": "CL0j7iGk5IaD"
      },
      "source": [
        "main_db = main_db.dropna(subset=[\"tracking_id\",\"datetime\"])"
      ],
      "execution_count": 5,
      "outputs": []
    },
    {
      "cell_type": "code",
      "metadata": {
        "id": "MyRpG7pg5yZ9"
      },
      "source": [
        "main_db1 = main_db.fillna(main_db.mean())"
      ],
      "execution_count": 6,
      "outputs": []
    },
    {
      "cell_type": "code",
      "metadata": {
        "id": "-U_BD4T989IA"
      },
      "source": [
        "mode1 = main_db[\"cloud_level\"].mode()\n",
        "mode2=main_db[\"turbine_status\"].mode()\n",
        "main_db1[\"cloud_level\"].fillna(\"Low\",inplace=True)\n",
        "main_db1[\"turbine_status\"].fillna(\"BB\",inplace=True)"
      ],
      "execution_count": 7,
      "outputs": []
    },
    {
      "cell_type": "code",
      "metadata": {
        "colab": {
          "base_uri": "https://localhost:8080/"
        },
        "id": "-uzjLXar9r8p",
        "outputId": "4bd9629c-6197-430c-f494-91b7080e7e6b"
      },
      "source": [
        "db1 = pd.get_dummies(main_db1,columns = [\"cloud_level\",\"turbine_status\"])\n",
        "tid=np.array(db1[\"tracking_id\"])\n",
        "dt = np.array(db1[\"datetime\"])\n",
        "Y_DB = np.array(db1[\"windmill_generated_power(kW/h)\"])\n",
        "Y_DB = Y_DB.reshape(-1,1)\n",
        "s = StandardScaler()\n",
        "s.fit_transform(Y_DB)"
      ],
      "execution_count": 8,
      "outputs": [
        {
          "output_type": "execute_result",
          "data": {
            "text/plain": [
              "array([[ 0.25530541],\n",
              "       [-0.04122409],\n",
              "       [-1.18693361],\n",
              "       ...,\n",
              "       [-1.41290113],\n",
              "       [-1.1343119 ],\n",
              "       [-1.66611222]])"
            ]
          },
          "metadata": {
            "tags": []
          },
          "execution_count": 8
        }
      ]
    },
    {
      "cell_type": "code",
      "metadata": {
        "colab": {
          "base_uri": "https://localhost:8080/"
        },
        "id": "pvDnIra2DGi-",
        "outputId": "27174cd4-1fa9-45f6-f77a-9789313054bd"
      },
      "source": [
        "db2 = db1.drop(columns=['tracking_id',\"datetime\"])\n",
        "print(str(db2.isnull().sum()))"
      ],
      "execution_count": 9,
      "outputs": [
        {
          "output_type": "stream",
          "text": [
            "wind_speed(m/s)                   0\n",
            "atmospheric_temperature(°C)       0\n",
            "shaft_temperature(°C)             0\n",
            "blades_angle(°)                   0\n",
            "gearbox_temperature(°C)           0\n",
            "engine_temperature(°C)            0\n",
            "motor_torque(N-m)                 0\n",
            "generator_temperature(°C)         0\n",
            "atmospheric_pressure(Pascal)      0\n",
            "area_temperature(°C)              0\n",
            "windmill_body_temperature(°C)     0\n",
            "wind_direction(°)                 0\n",
            "resistance(ohm)                   0\n",
            "rotor_torque(N-m)                 0\n",
            "blade_length(m)                   0\n",
            "blade_breadth(m)                  0\n",
            "windmill_height(m)                0\n",
            "windmill_generated_power(kW/h)    0\n",
            "cloud_level_Extremely Low         0\n",
            "cloud_level_Low                   0\n",
            "cloud_level_Medium                0\n",
            "turbine_status_A                  0\n",
            "turbine_status_A2                 0\n",
            "turbine_status_AAA                0\n",
            "turbine_status_AB                 0\n",
            "turbine_status_ABC                0\n",
            "turbine_status_AC                 0\n",
            "turbine_status_B                  0\n",
            "turbine_status_B2                 0\n",
            "turbine_status_BA                 0\n",
            "turbine_status_BB                 0\n",
            "turbine_status_BBB                0\n",
            "turbine_status_BCB                0\n",
            "turbine_status_BD                 0\n",
            "turbine_status_D                  0\n",
            "dtype: int64\n"
          ],
          "name": "stdout"
        }
      ]
    },
    {
      "cell_type": "code",
      "metadata": {
        "id": "TTjF5e4pDb8L",
        "colab": {
          "base_uri": "https://localhost:8080/",
          "height": 438
        },
        "outputId": "4ea1e6be-04fa-44b5-aab8-50e8c19fa596"
      },
      "source": [
        "# minval=db2.min()\n",
        "# maxval = db2.max()\n",
        "\n",
        "# db2 -=db2.min()\n",
        "# db2 /=db2.max()\n",
        "\n",
        "scaler = StandardScaler()\n",
        "\n",
        "scaled_features =  scaler.fit_transform(db2.values)\n",
        "db2 =pd.DataFrame(scaled_features,index = db2.index,columns=db2.columns)\n",
        "db2"
      ],
      "execution_count": 10,
      "outputs": [
        {
          "output_type": "execute_result",
          "data": {
            "text/html": [
              "<div>\n",
              "<style scoped>\n",
              "    .dataframe tbody tr th:only-of-type {\n",
              "        vertical-align: middle;\n",
              "    }\n",
              "\n",
              "    .dataframe tbody tr th {\n",
              "        vertical-align: top;\n",
              "    }\n",
              "\n",
              "    .dataframe thead th {\n",
              "        text-align: right;\n",
              "    }\n",
              "</style>\n",
              "<table border=\"1\" class=\"dataframe\">\n",
              "  <thead>\n",
              "    <tr style=\"text-align: right;\">\n",
              "      <th></th>\n",
              "      <th>wind_speed(m/s)</th>\n",
              "      <th>atmospheric_temperature(°C)</th>\n",
              "      <th>shaft_temperature(°C)</th>\n",
              "      <th>blades_angle(°)</th>\n",
              "      <th>gearbox_temperature(°C)</th>\n",
              "      <th>engine_temperature(°C)</th>\n",
              "      <th>motor_torque(N-m)</th>\n",
              "      <th>generator_temperature(°C)</th>\n",
              "      <th>atmospheric_pressure(Pascal)</th>\n",
              "      <th>area_temperature(°C)</th>\n",
              "      <th>windmill_body_temperature(°C)</th>\n",
              "      <th>wind_direction(°)</th>\n",
              "      <th>resistance(ohm)</th>\n",
              "      <th>rotor_torque(N-m)</th>\n",
              "      <th>blade_length(m)</th>\n",
              "      <th>blade_breadth(m)</th>\n",
              "      <th>windmill_height(m)</th>\n",
              "      <th>windmill_generated_power(kW/h)</th>\n",
              "      <th>cloud_level_Extremely Low</th>\n",
              "      <th>cloud_level_Low</th>\n",
              "      <th>cloud_level_Medium</th>\n",
              "      <th>turbine_status_A</th>\n",
              "      <th>turbine_status_A2</th>\n",
              "      <th>turbine_status_AAA</th>\n",
              "      <th>turbine_status_AB</th>\n",
              "      <th>turbine_status_ABC</th>\n",
              "      <th>turbine_status_AC</th>\n",
              "      <th>turbine_status_B</th>\n",
              "      <th>turbine_status_B2</th>\n",
              "      <th>turbine_status_BA</th>\n",
              "      <th>turbine_status_BB</th>\n",
              "      <th>turbine_status_BBB</th>\n",
              "      <th>turbine_status_BCB</th>\n",
              "      <th>turbine_status_BD</th>\n",
              "      <th>turbine_status_D</th>\n",
              "    </tr>\n",
              "  </thead>\n",
              "  <tbody>\n",
              "    <tr>\n",
              "      <th>0</th>\n",
              "      <td>0.341050</td>\n",
              "      <td>-2.298955e+00</td>\n",
              "      <td>0.041633</td>\n",
              "      <td>0.180821</td>\n",
              "      <td>0.985724</td>\n",
              "      <td>-0.023874</td>\n",
              "      <td>1.043420</td>\n",
              "      <td>0.597316</td>\n",
              "      <td>2.970745e-01</td>\n",
              "      <td>-0.756813</td>\n",
              "      <td>-2.771807e-16</td>\n",
              "      <td>-0.557463</td>\n",
              "      <td>2.296611</td>\n",
              "      <td>5.004155e-01</td>\n",
              "      <td>-3.626177e-02</td>\n",
              "      <td>-1.388357</td>\n",
              "      <td>-0.191704</td>\n",
              "      <td>0.255305</td>\n",
              "      <td>-0.09294</td>\n",
              "      <td>-1.0</td>\n",
              "      <td>1.017277</td>\n",
              "      <td>-0.265560</td>\n",
              "      <td>-0.266978</td>\n",
              "      <td>-0.273991</td>\n",
              "      <td>-0.256927</td>\n",
              "      <td>-0.271201</td>\n",
              "      <td>-0.264135</td>\n",
              "      <td>-0.277448</td>\n",
              "      <td>-0.270501</td>\n",
              "      <td>3.925661</td>\n",
              "      <td>-0.393461</td>\n",
              "      <td>-0.26556</td>\n",
              "      <td>-0.283597</td>\n",
              "      <td>-0.251048</td>\n",
              "      <td>-0.269799</td>\n",
              "    </tr>\n",
              "    <tr>\n",
              "      <th>1</th>\n",
              "      <td>2.267890</td>\n",
              "      <td>6.746849e-01</td>\n",
              "      <td>-5.393083</td>\n",
              "      <td>-1.890557</td>\n",
              "      <td>0.088507</td>\n",
              "      <td>0.606535</td>\n",
              "      <td>0.812132</td>\n",
              "      <td>0.671524</td>\n",
              "      <td>-1.773439e-01</td>\n",
              "      <td>0.916820</td>\n",
              "      <td>-2.771807e-16</td>\n",
              "      <td>0.249223</td>\n",
              "      <td>0.411497</td>\n",
              "      <td>2.573086e+00</td>\n",
              "      <td>1.838511e-01</td>\n",
              "      <td>0.815067</td>\n",
              "      <td>0.201468</td>\n",
              "      <td>-0.041224</td>\n",
              "      <td>-0.09294</td>\n",
              "      <td>-1.0</td>\n",
              "      <td>1.017277</td>\n",
              "      <td>-0.265560</td>\n",
              "      <td>3.745625</td>\n",
              "      <td>-0.273991</td>\n",
              "      <td>-0.256927</td>\n",
              "      <td>-0.271201</td>\n",
              "      <td>-0.264135</td>\n",
              "      <td>-0.277448</td>\n",
              "      <td>-0.270501</td>\n",
              "      <td>-0.254734</td>\n",
              "      <td>-0.393461</td>\n",
              "      <td>-0.26556</td>\n",
              "      <td>-0.283597</td>\n",
              "      <td>-0.251048</td>\n",
              "      <td>-0.269799</td>\n",
              "    </tr>\n",
              "    <tr>\n",
              "      <th>2</th>\n",
              "      <td>0.349762</td>\n",
              "      <td>-8.594366e-17</td>\n",
              "      <td>0.046748</td>\n",
              "      <td>0.467069</td>\n",
              "      <td>0.046749</td>\n",
              "      <td>0.036121</td>\n",
              "      <td>-0.055121</td>\n",
              "      <td>0.140632</td>\n",
              "      <td>-1.823147e-01</td>\n",
              "      <td>0.438812</td>\n",
              "      <td>4.751132e-01</td>\n",
              "      <td>-0.656017</td>\n",
              "      <td>0.184996</td>\n",
              "      <td>-2.177393e+00</td>\n",
              "      <td>1.917866e-02</td>\n",
              "      <td>-1.580849</td>\n",
              "      <td>0.215186</td>\n",
              "      <td>-1.186934</td>\n",
              "      <td>-0.09294</td>\n",
              "      <td>-1.0</td>\n",
              "      <td>1.017277</td>\n",
              "      <td>-0.265560</td>\n",
              "      <td>-0.266978</td>\n",
              "      <td>-0.273991</td>\n",
              "      <td>-0.256927</td>\n",
              "      <td>3.687296</td>\n",
              "      <td>-0.264135</td>\n",
              "      <td>-0.277448</td>\n",
              "      <td>-0.270501</td>\n",
              "      <td>-0.254734</td>\n",
              "      <td>-0.393461</td>\n",
              "      <td>-0.26556</td>\n",
              "      <td>-0.283597</td>\n",
              "      <td>-0.251048</td>\n",
              "      <td>-0.269799</td>\n",
              "    </tr>\n",
              "    <tr>\n",
              "      <th>3</th>\n",
              "      <td>2.228395</td>\n",
              "      <td>-2.298955e+00</td>\n",
              "      <td>0.185334</td>\n",
              "      <td>0.519068</td>\n",
              "      <td>0.103842</td>\n",
              "      <td>0.779200</td>\n",
              "      <td>1.437520</td>\n",
              "      <td>1.546273</td>\n",
              "      <td>-1.682324e-01</td>\n",
              "      <td>1.723387</td>\n",
              "      <td>4.710944e-01</td>\n",
              "      <td>1.516598</td>\n",
              "      <td>0.777161</td>\n",
              "      <td>5.212018e-01</td>\n",
              "      <td>2.553189e-01</td>\n",
              "      <td>-0.518408</td>\n",
              "      <td>-0.190902</td>\n",
              "      <td>3.251026</td>\n",
              "      <td>-0.09294</td>\n",
              "      <td>1.0</td>\n",
              "      <td>-0.983016</td>\n",
              "      <td>-0.265560</td>\n",
              "      <td>-0.266978</td>\n",
              "      <td>-0.273991</td>\n",
              "      <td>-0.256927</td>\n",
              "      <td>3.687296</td>\n",
              "      <td>-0.264135</td>\n",
              "      <td>-0.277448</td>\n",
              "      <td>-0.270501</td>\n",
              "      <td>-0.254734</td>\n",
              "      <td>-0.393461</td>\n",
              "      <td>-0.26556</td>\n",
              "      <td>-0.283597</td>\n",
              "      <td>-0.251048</td>\n",
              "      <td>-0.269799</td>\n",
              "    </tr>\n",
              "    <tr>\n",
              "      <th>4</th>\n",
              "      <td>-0.761178</td>\n",
              "      <td>-8.594366e-17</td>\n",
              "      <td>0.051603</td>\n",
              "      <td>0.236125</td>\n",
              "      <td>-1.357167</td>\n",
              "      <td>0.135900</td>\n",
              "      <td>-1.116702</td>\n",
              "      <td>-1.391503</td>\n",
              "      <td>3.578527e-01</td>\n",
              "      <td>0.238665</td>\n",
              "      <td>-2.334234e+00</td>\n",
              "      <td>-0.397634</td>\n",
              "      <td>-0.784311</td>\n",
              "      <td>-4.034845e-01</td>\n",
              "      <td>-8.338727e-16</td>\n",
              "      <td>0.895043</td>\n",
              "      <td>0.295065</td>\n",
              "      <td>-0.948030</td>\n",
              "      <td>-0.09294</td>\n",
              "      <td>-1.0</td>\n",
              "      <td>1.017277</td>\n",
              "      <td>-0.265560</td>\n",
              "      <td>-0.266978</td>\n",
              "      <td>3.649761</td>\n",
              "      <td>-0.256927</td>\n",
              "      <td>-0.271201</td>\n",
              "      <td>-0.264135</td>\n",
              "      <td>-0.277448</td>\n",
              "      <td>-0.270501</td>\n",
              "      <td>-0.254734</td>\n",
              "      <td>-0.393461</td>\n",
              "      <td>-0.26556</td>\n",
              "      <td>-0.283597</td>\n",
              "      <td>-0.251048</td>\n",
              "      <td>-0.269799</td>\n",
              "    </tr>\n",
              "    <tr>\n",
              "      <th>...</th>\n",
              "      <td>...</td>\n",
              "      <td>...</td>\n",
              "      <td>...</td>\n",
              "      <td>...</td>\n",
              "      <td>...</td>\n",
              "      <td>...</td>\n",
              "      <td>...</td>\n",
              "      <td>...</td>\n",
              "      <td>...</td>\n",
              "      <td>...</td>\n",
              "      <td>...</td>\n",
              "      <td>...</td>\n",
              "      <td>...</td>\n",
              "      <td>...</td>\n",
              "      <td>...</td>\n",
              "      <td>...</td>\n",
              "      <td>...</td>\n",
              "      <td>...</td>\n",
              "      <td>...</td>\n",
              "      <td>...</td>\n",
              "      <td>...</td>\n",
              "      <td>...</td>\n",
              "      <td>...</td>\n",
              "      <td>...</td>\n",
              "      <td>...</td>\n",
              "      <td>...</td>\n",
              "      <td>...</td>\n",
              "      <td>...</td>\n",
              "      <td>...</td>\n",
              "      <td>...</td>\n",
              "      <td>...</td>\n",
              "      <td>...</td>\n",
              "      <td>...</td>\n",
              "      <td>...</td>\n",
              "      <td>...</td>\n",
              "    </tr>\n",
              "    <tr>\n",
              "      <th>3031</th>\n",
              "      <td>-2.186812</td>\n",
              "      <td>5.722852e-01</td>\n",
              "      <td>0.178055</td>\n",
              "      <td>-1.890557</td>\n",
              "      <td>2.332107</td>\n",
              "      <td>0.502665</td>\n",
              "      <td>0.767004</td>\n",
              "      <td>1.138077</td>\n",
              "      <td>1.960733e+00</td>\n",
              "      <td>1.675373</td>\n",
              "      <td>5.400805e-01</td>\n",
              "      <td>-2.143894</td>\n",
              "      <td>0.380364</td>\n",
              "      <td>1.566630e-15</td>\n",
              "      <td>2.436424e-01</td>\n",
              "      <td>-0.188961</td>\n",
              "      <td>-2.763902</td>\n",
              "      <td>-0.079085</td>\n",
              "      <td>-0.09294</td>\n",
              "      <td>1.0</td>\n",
              "      <td>-0.983016</td>\n",
              "      <td>-0.265560</td>\n",
              "      <td>-0.266978</td>\n",
              "      <td>-0.273991</td>\n",
              "      <td>3.892163</td>\n",
              "      <td>-0.271201</td>\n",
              "      <td>-0.264135</td>\n",
              "      <td>-0.277448</td>\n",
              "      <td>-0.270501</td>\n",
              "      <td>-0.254734</td>\n",
              "      <td>-0.393461</td>\n",
              "      <td>-0.26556</td>\n",
              "      <td>-0.283597</td>\n",
              "      <td>-0.251048</td>\n",
              "      <td>-0.269799</td>\n",
              "    </tr>\n",
              "    <tr>\n",
              "      <th>3032</th>\n",
              "      <td>-1.589179</td>\n",
              "      <td>4.587794e-01</td>\n",
              "      <td>0.118078</td>\n",
              "      <td>0.671868</td>\n",
              "      <td>-2.110050</td>\n",
              "      <td>0.280278</td>\n",
              "      <td>1.423685</td>\n",
              "      <td>1.513909</td>\n",
              "      <td>-1.619500e-01</td>\n",
              "      <td>1.263377</td>\n",
              "      <td>4.962963e-01</td>\n",
              "      <td>1.793316</td>\n",
              "      <td>0.758650</td>\n",
              "      <td>5.525261e-01</td>\n",
              "      <td>-4.973225e-01</td>\n",
              "      <td>-0.690389</td>\n",
              "      <td>-0.091347</td>\n",
              "      <td>5.206352</td>\n",
              "      <td>-0.09294</td>\n",
              "      <td>-1.0</td>\n",
              "      <td>1.017277</td>\n",
              "      <td>-0.265560</td>\n",
              "      <td>-0.266978</td>\n",
              "      <td>-0.273991</td>\n",
              "      <td>-0.256927</td>\n",
              "      <td>-0.271201</td>\n",
              "      <td>-0.264135</td>\n",
              "      <td>-0.277448</td>\n",
              "      <td>-0.270501</td>\n",
              "      <td>-0.254734</td>\n",
              "      <td>-0.393461</td>\n",
              "      <td>-0.26556</td>\n",
              "      <td>-0.283597</td>\n",
              "      <td>3.983298</td>\n",
              "      <td>-0.269799</td>\n",
              "    </tr>\n",
              "    <tr>\n",
              "      <th>3033</th>\n",
              "      <td>0.334041</td>\n",
              "      <td>8.869122e-01</td>\n",
              "      <td>0.072759</td>\n",
              "      <td>1.689888</td>\n",
              "      <td>-0.016144</td>\n",
              "      <td>-0.302336</td>\n",
              "      <td>-0.845154</td>\n",
              "      <td>0.101117</td>\n",
              "      <td>-1.808576e-01</td>\n",
              "      <td>0.286350</td>\n",
              "      <td>4.493778e-01</td>\n",
              "      <td>-1.012542</td>\n",
              "      <td>0.177503</td>\n",
              "      <td>-1.592351e-01</td>\n",
              "      <td>9.754962e-02</td>\n",
              "      <td>-0.854653</td>\n",
              "      <td>0.049536</td>\n",
              "      <td>-1.412901</td>\n",
              "      <td>-0.09294</td>\n",
              "      <td>-1.0</td>\n",
              "      <td>1.017277</td>\n",
              "      <td>3.765634</td>\n",
              "      <td>-0.266978</td>\n",
              "      <td>-0.273991</td>\n",
              "      <td>-0.256927</td>\n",
              "      <td>-0.271201</td>\n",
              "      <td>-0.264135</td>\n",
              "      <td>-0.277448</td>\n",
              "      <td>-0.270501</td>\n",
              "      <td>-0.254734</td>\n",
              "      <td>-0.393461</td>\n",
              "      <td>-0.26556</td>\n",
              "      <td>-0.283597</td>\n",
              "      <td>-0.251048</td>\n",
              "      <td>-0.269799</td>\n",
              "    </tr>\n",
              "    <tr>\n",
              "      <th>3034</th>\n",
              "      <td>0.361215</td>\n",
              "      <td>4.375350e-01</td>\n",
              "      <td>0.083270</td>\n",
              "      <td>0.997202</td>\n",
              "      <td>-0.017859</td>\n",
              "      <td>-0.251779</td>\n",
              "      <td>-0.702655</td>\n",
              "      <td>0.181360</td>\n",
              "      <td>3.996487e-17</td>\n",
              "      <td>0.276630</td>\n",
              "      <td>4.938612e-01</td>\n",
              "      <td>1.348231</td>\n",
              "      <td>-3.317065</td>\n",
              "      <td>-1.146194e-01</td>\n",
              "      <td>-8.338727e-16</td>\n",
              "      <td>-0.397025</td>\n",
              "      <td>-0.004730</td>\n",
              "      <td>-1.134312</td>\n",
              "      <td>-0.09294</td>\n",
              "      <td>1.0</td>\n",
              "      <td>-0.983016</td>\n",
              "      <td>-0.265560</td>\n",
              "      <td>-0.266978</td>\n",
              "      <td>-0.273991</td>\n",
              "      <td>-0.256927</td>\n",
              "      <td>-0.271201</td>\n",
              "      <td>-0.264135</td>\n",
              "      <td>-0.277448</td>\n",
              "      <td>-0.270501</td>\n",
              "      <td>-0.254734</td>\n",
              "      <td>2.541547</td>\n",
              "      <td>-0.26556</td>\n",
              "      <td>-0.283597</td>\n",
              "      <td>-0.251048</td>\n",
              "      <td>-0.269799</td>\n",
              "    </tr>\n",
              "    <tr>\n",
              "      <th>3035</th>\n",
              "      <td>0.393084</td>\n",
              "      <td>8.319659e-01</td>\n",
              "      <td>0.208931</td>\n",
              "      <td>2.231965</td>\n",
              "      <td>0.019792</td>\n",
              "      <td>0.099157</td>\n",
              "      <td>-0.850778</td>\n",
              "      <td>0.270844</td>\n",
              "      <td>-1.800351e-01</td>\n",
              "      <td>1.697880</td>\n",
              "      <td>5.460298e-01</td>\n",
              "      <td>-0.687210</td>\n",
              "      <td>0.179699</td>\n",
              "      <td>-3.943420e+00</td>\n",
              "      <td>-8.442350e-02</td>\n",
              "      <td>-2.773240</td>\n",
              "      <td>-0.377008</td>\n",
              "      <td>-1.666112</td>\n",
              "      <td>-0.09294</td>\n",
              "      <td>1.0</td>\n",
              "      <td>-0.983016</td>\n",
              "      <td>3.765634</td>\n",
              "      <td>-0.266978</td>\n",
              "      <td>-0.273991</td>\n",
              "      <td>-0.256927</td>\n",
              "      <td>-0.271201</td>\n",
              "      <td>-0.264135</td>\n",
              "      <td>-0.277448</td>\n",
              "      <td>-0.270501</td>\n",
              "      <td>-0.254734</td>\n",
              "      <td>-0.393461</td>\n",
              "      <td>-0.26556</td>\n",
              "      <td>-0.283597</td>\n",
              "      <td>-0.251048</td>\n",
              "      <td>-0.269799</td>\n",
              "    </tr>\n",
              "  </tbody>\n",
              "</table>\n",
              "<p>3036 rows × 35 columns</p>\n",
              "</div>"
            ],
            "text/plain": [
              "      wind_speed(m/s)  ...  turbine_status_D\n",
              "0            0.341050  ...         -0.269799\n",
              "1            2.267890  ...         -0.269799\n",
              "2            0.349762  ...         -0.269799\n",
              "3            2.228395  ...         -0.269799\n",
              "4           -0.761178  ...         -0.269799\n",
              "...               ...  ...               ...\n",
              "3031        -2.186812  ...         -0.269799\n",
              "3032        -1.589179  ...         -0.269799\n",
              "3033         0.334041  ...         -0.269799\n",
              "3034         0.361215  ...         -0.269799\n",
              "3035         0.393084  ...         -0.269799\n",
              "\n",
              "[3036 rows x 35 columns]"
            ]
          },
          "metadata": {
            "tags": []
          },
          "execution_count": 10
        }
      ]
    },
    {
      "cell_type": "code",
      "metadata": {
        "colab": {
          "base_uri": "https://localhost:8080/"
        },
        "id": "O7ewWsRCDihS",
        "outputId": "dd45ba2f-ab52-439e-ac6a-97d314aa9272"
      },
      "source": [
        "db2[\"tracking_id\"]=tid\n",
        "db2[\"datetime\"]=dt\n",
        "print(str(db2.isnull().sum()))"
      ],
      "execution_count": 11,
      "outputs": [
        {
          "output_type": "stream",
          "text": [
            "wind_speed(m/s)                   0\n",
            "atmospheric_temperature(°C)       0\n",
            "shaft_temperature(°C)             0\n",
            "blades_angle(°)                   0\n",
            "gearbox_temperature(°C)           0\n",
            "engine_temperature(°C)            0\n",
            "motor_torque(N-m)                 0\n",
            "generator_temperature(°C)         0\n",
            "atmospheric_pressure(Pascal)      0\n",
            "area_temperature(°C)              0\n",
            "windmill_body_temperature(°C)     0\n",
            "wind_direction(°)                 0\n",
            "resistance(ohm)                   0\n",
            "rotor_torque(N-m)                 0\n",
            "blade_length(m)                   0\n",
            "blade_breadth(m)                  0\n",
            "windmill_height(m)                0\n",
            "windmill_generated_power(kW/h)    0\n",
            "cloud_level_Extremely Low         0\n",
            "cloud_level_Low                   0\n",
            "cloud_level_Medium                0\n",
            "turbine_status_A                  0\n",
            "turbine_status_A2                 0\n",
            "turbine_status_AAA                0\n",
            "turbine_status_AB                 0\n",
            "turbine_status_ABC                0\n",
            "turbine_status_AC                 0\n",
            "turbine_status_B                  0\n",
            "turbine_status_B2                 0\n",
            "turbine_status_BA                 0\n",
            "turbine_status_BB                 0\n",
            "turbine_status_BBB                0\n",
            "turbine_status_BCB                0\n",
            "turbine_status_BD                 0\n",
            "turbine_status_D                  0\n",
            "tracking_id                       0\n",
            "datetime                          0\n",
            "dtype: int64\n"
          ],
          "name": "stdout"
        }
      ]
    },
    {
      "cell_type": "code",
      "metadata": {
        "id": "CASx6qM7Eg8r"
      },
      "source": [
        "Y = pd.DataFrame(db2[\"windmill_generated_power(kW/h)\"])\n",
        "X = db2.drop([\"windmill_generated_power(kW/h)\",\"tracking_id\",\"datetime\"],axis=1)\n",
        "X = X.drop(columns=['blade_length(m)','wind_direction(°)','atmospheric_pressure(Pascal)','atmospheric_temperature(°C)'])"
      ],
      "execution_count": 12,
      "outputs": []
    },
    {
      "cell_type": "code",
      "metadata": {
        "id": "rPHjQHXmTLS8"
      },
      "source": [
        ""
      ],
      "execution_count": 12,
      "outputs": []
    },
    {
      "cell_type": "code",
      "metadata": {
        "colab": {
          "base_uri": "https://localhost:8080/",
          "height": 438
        },
        "id": "B8KYKQ8iFTyj",
        "outputId": "dba54d75-3d3f-49bf-ec4d-0e3381a53c5b"
      },
      "source": [
        "x_train,x_test,y_train,y_test = train_test_split(X,Y)\n",
        "X"
      ],
      "execution_count": 13,
      "outputs": [
        {
          "output_type": "execute_result",
          "data": {
            "text/html": [
              "<div>\n",
              "<style scoped>\n",
              "    .dataframe tbody tr th:only-of-type {\n",
              "        vertical-align: middle;\n",
              "    }\n",
              "\n",
              "    .dataframe tbody tr th {\n",
              "        vertical-align: top;\n",
              "    }\n",
              "\n",
              "    .dataframe thead th {\n",
              "        text-align: right;\n",
              "    }\n",
              "</style>\n",
              "<table border=\"1\" class=\"dataframe\">\n",
              "  <thead>\n",
              "    <tr style=\"text-align: right;\">\n",
              "      <th></th>\n",
              "      <th>wind_speed(m/s)</th>\n",
              "      <th>shaft_temperature(°C)</th>\n",
              "      <th>blades_angle(°)</th>\n",
              "      <th>gearbox_temperature(°C)</th>\n",
              "      <th>engine_temperature(°C)</th>\n",
              "      <th>motor_torque(N-m)</th>\n",
              "      <th>generator_temperature(°C)</th>\n",
              "      <th>area_temperature(°C)</th>\n",
              "      <th>windmill_body_temperature(°C)</th>\n",
              "      <th>resistance(ohm)</th>\n",
              "      <th>rotor_torque(N-m)</th>\n",
              "      <th>blade_breadth(m)</th>\n",
              "      <th>windmill_height(m)</th>\n",
              "      <th>cloud_level_Extremely Low</th>\n",
              "      <th>cloud_level_Low</th>\n",
              "      <th>cloud_level_Medium</th>\n",
              "      <th>turbine_status_A</th>\n",
              "      <th>turbine_status_A2</th>\n",
              "      <th>turbine_status_AAA</th>\n",
              "      <th>turbine_status_AB</th>\n",
              "      <th>turbine_status_ABC</th>\n",
              "      <th>turbine_status_AC</th>\n",
              "      <th>turbine_status_B</th>\n",
              "      <th>turbine_status_B2</th>\n",
              "      <th>turbine_status_BA</th>\n",
              "      <th>turbine_status_BB</th>\n",
              "      <th>turbine_status_BBB</th>\n",
              "      <th>turbine_status_BCB</th>\n",
              "      <th>turbine_status_BD</th>\n",
              "      <th>turbine_status_D</th>\n",
              "    </tr>\n",
              "  </thead>\n",
              "  <tbody>\n",
              "    <tr>\n",
              "      <th>0</th>\n",
              "      <td>0.341050</td>\n",
              "      <td>0.041633</td>\n",
              "      <td>0.180821</td>\n",
              "      <td>0.985724</td>\n",
              "      <td>-0.023874</td>\n",
              "      <td>1.043420</td>\n",
              "      <td>0.597316</td>\n",
              "      <td>-0.756813</td>\n",
              "      <td>-2.771807e-16</td>\n",
              "      <td>2.296611</td>\n",
              "      <td>5.004155e-01</td>\n",
              "      <td>-1.388357</td>\n",
              "      <td>-0.191704</td>\n",
              "      <td>-0.09294</td>\n",
              "      <td>-1.0</td>\n",
              "      <td>1.017277</td>\n",
              "      <td>-0.265560</td>\n",
              "      <td>-0.266978</td>\n",
              "      <td>-0.273991</td>\n",
              "      <td>-0.256927</td>\n",
              "      <td>-0.271201</td>\n",
              "      <td>-0.264135</td>\n",
              "      <td>-0.277448</td>\n",
              "      <td>-0.270501</td>\n",
              "      <td>3.925661</td>\n",
              "      <td>-0.393461</td>\n",
              "      <td>-0.26556</td>\n",
              "      <td>-0.283597</td>\n",
              "      <td>-0.251048</td>\n",
              "      <td>-0.269799</td>\n",
              "    </tr>\n",
              "    <tr>\n",
              "      <th>1</th>\n",
              "      <td>2.267890</td>\n",
              "      <td>-5.393083</td>\n",
              "      <td>-1.890557</td>\n",
              "      <td>0.088507</td>\n",
              "      <td>0.606535</td>\n",
              "      <td>0.812132</td>\n",
              "      <td>0.671524</td>\n",
              "      <td>0.916820</td>\n",
              "      <td>-2.771807e-16</td>\n",
              "      <td>0.411497</td>\n",
              "      <td>2.573086e+00</td>\n",
              "      <td>0.815067</td>\n",
              "      <td>0.201468</td>\n",
              "      <td>-0.09294</td>\n",
              "      <td>-1.0</td>\n",
              "      <td>1.017277</td>\n",
              "      <td>-0.265560</td>\n",
              "      <td>3.745625</td>\n",
              "      <td>-0.273991</td>\n",
              "      <td>-0.256927</td>\n",
              "      <td>-0.271201</td>\n",
              "      <td>-0.264135</td>\n",
              "      <td>-0.277448</td>\n",
              "      <td>-0.270501</td>\n",
              "      <td>-0.254734</td>\n",
              "      <td>-0.393461</td>\n",
              "      <td>-0.26556</td>\n",
              "      <td>-0.283597</td>\n",
              "      <td>-0.251048</td>\n",
              "      <td>-0.269799</td>\n",
              "    </tr>\n",
              "    <tr>\n",
              "      <th>2</th>\n",
              "      <td>0.349762</td>\n",
              "      <td>0.046748</td>\n",
              "      <td>0.467069</td>\n",
              "      <td>0.046749</td>\n",
              "      <td>0.036121</td>\n",
              "      <td>-0.055121</td>\n",
              "      <td>0.140632</td>\n",
              "      <td>0.438812</td>\n",
              "      <td>4.751132e-01</td>\n",
              "      <td>0.184996</td>\n",
              "      <td>-2.177393e+00</td>\n",
              "      <td>-1.580849</td>\n",
              "      <td>0.215186</td>\n",
              "      <td>-0.09294</td>\n",
              "      <td>-1.0</td>\n",
              "      <td>1.017277</td>\n",
              "      <td>-0.265560</td>\n",
              "      <td>-0.266978</td>\n",
              "      <td>-0.273991</td>\n",
              "      <td>-0.256927</td>\n",
              "      <td>3.687296</td>\n",
              "      <td>-0.264135</td>\n",
              "      <td>-0.277448</td>\n",
              "      <td>-0.270501</td>\n",
              "      <td>-0.254734</td>\n",
              "      <td>-0.393461</td>\n",
              "      <td>-0.26556</td>\n",
              "      <td>-0.283597</td>\n",
              "      <td>-0.251048</td>\n",
              "      <td>-0.269799</td>\n",
              "    </tr>\n",
              "    <tr>\n",
              "      <th>3</th>\n",
              "      <td>2.228395</td>\n",
              "      <td>0.185334</td>\n",
              "      <td>0.519068</td>\n",
              "      <td>0.103842</td>\n",
              "      <td>0.779200</td>\n",
              "      <td>1.437520</td>\n",
              "      <td>1.546273</td>\n",
              "      <td>1.723387</td>\n",
              "      <td>4.710944e-01</td>\n",
              "      <td>0.777161</td>\n",
              "      <td>5.212018e-01</td>\n",
              "      <td>-0.518408</td>\n",
              "      <td>-0.190902</td>\n",
              "      <td>-0.09294</td>\n",
              "      <td>1.0</td>\n",
              "      <td>-0.983016</td>\n",
              "      <td>-0.265560</td>\n",
              "      <td>-0.266978</td>\n",
              "      <td>-0.273991</td>\n",
              "      <td>-0.256927</td>\n",
              "      <td>3.687296</td>\n",
              "      <td>-0.264135</td>\n",
              "      <td>-0.277448</td>\n",
              "      <td>-0.270501</td>\n",
              "      <td>-0.254734</td>\n",
              "      <td>-0.393461</td>\n",
              "      <td>-0.26556</td>\n",
              "      <td>-0.283597</td>\n",
              "      <td>-0.251048</td>\n",
              "      <td>-0.269799</td>\n",
              "    </tr>\n",
              "    <tr>\n",
              "      <th>4</th>\n",
              "      <td>-0.761178</td>\n",
              "      <td>0.051603</td>\n",
              "      <td>0.236125</td>\n",
              "      <td>-1.357167</td>\n",
              "      <td>0.135900</td>\n",
              "      <td>-1.116702</td>\n",
              "      <td>-1.391503</td>\n",
              "      <td>0.238665</td>\n",
              "      <td>-2.334234e+00</td>\n",
              "      <td>-0.784311</td>\n",
              "      <td>-4.034845e-01</td>\n",
              "      <td>0.895043</td>\n",
              "      <td>0.295065</td>\n",
              "      <td>-0.09294</td>\n",
              "      <td>-1.0</td>\n",
              "      <td>1.017277</td>\n",
              "      <td>-0.265560</td>\n",
              "      <td>-0.266978</td>\n",
              "      <td>3.649761</td>\n",
              "      <td>-0.256927</td>\n",
              "      <td>-0.271201</td>\n",
              "      <td>-0.264135</td>\n",
              "      <td>-0.277448</td>\n",
              "      <td>-0.270501</td>\n",
              "      <td>-0.254734</td>\n",
              "      <td>-0.393461</td>\n",
              "      <td>-0.26556</td>\n",
              "      <td>-0.283597</td>\n",
              "      <td>-0.251048</td>\n",
              "      <td>-0.269799</td>\n",
              "    </tr>\n",
              "    <tr>\n",
              "      <th>...</th>\n",
              "      <td>...</td>\n",
              "      <td>...</td>\n",
              "      <td>...</td>\n",
              "      <td>...</td>\n",
              "      <td>...</td>\n",
              "      <td>...</td>\n",
              "      <td>...</td>\n",
              "      <td>...</td>\n",
              "      <td>...</td>\n",
              "      <td>...</td>\n",
              "      <td>...</td>\n",
              "      <td>...</td>\n",
              "      <td>...</td>\n",
              "      <td>...</td>\n",
              "      <td>...</td>\n",
              "      <td>...</td>\n",
              "      <td>...</td>\n",
              "      <td>...</td>\n",
              "      <td>...</td>\n",
              "      <td>...</td>\n",
              "      <td>...</td>\n",
              "      <td>...</td>\n",
              "      <td>...</td>\n",
              "      <td>...</td>\n",
              "      <td>...</td>\n",
              "      <td>...</td>\n",
              "      <td>...</td>\n",
              "      <td>...</td>\n",
              "      <td>...</td>\n",
              "      <td>...</td>\n",
              "    </tr>\n",
              "    <tr>\n",
              "      <th>3031</th>\n",
              "      <td>-2.186812</td>\n",
              "      <td>0.178055</td>\n",
              "      <td>-1.890557</td>\n",
              "      <td>2.332107</td>\n",
              "      <td>0.502665</td>\n",
              "      <td>0.767004</td>\n",
              "      <td>1.138077</td>\n",
              "      <td>1.675373</td>\n",
              "      <td>5.400805e-01</td>\n",
              "      <td>0.380364</td>\n",
              "      <td>1.566630e-15</td>\n",
              "      <td>-0.188961</td>\n",
              "      <td>-2.763902</td>\n",
              "      <td>-0.09294</td>\n",
              "      <td>1.0</td>\n",
              "      <td>-0.983016</td>\n",
              "      <td>-0.265560</td>\n",
              "      <td>-0.266978</td>\n",
              "      <td>-0.273991</td>\n",
              "      <td>3.892163</td>\n",
              "      <td>-0.271201</td>\n",
              "      <td>-0.264135</td>\n",
              "      <td>-0.277448</td>\n",
              "      <td>-0.270501</td>\n",
              "      <td>-0.254734</td>\n",
              "      <td>-0.393461</td>\n",
              "      <td>-0.26556</td>\n",
              "      <td>-0.283597</td>\n",
              "      <td>-0.251048</td>\n",
              "      <td>-0.269799</td>\n",
              "    </tr>\n",
              "    <tr>\n",
              "      <th>3032</th>\n",
              "      <td>-1.589179</td>\n",
              "      <td>0.118078</td>\n",
              "      <td>0.671868</td>\n",
              "      <td>-2.110050</td>\n",
              "      <td>0.280278</td>\n",
              "      <td>1.423685</td>\n",
              "      <td>1.513909</td>\n",
              "      <td>1.263377</td>\n",
              "      <td>4.962963e-01</td>\n",
              "      <td>0.758650</td>\n",
              "      <td>5.525261e-01</td>\n",
              "      <td>-0.690389</td>\n",
              "      <td>-0.091347</td>\n",
              "      <td>-0.09294</td>\n",
              "      <td>-1.0</td>\n",
              "      <td>1.017277</td>\n",
              "      <td>-0.265560</td>\n",
              "      <td>-0.266978</td>\n",
              "      <td>-0.273991</td>\n",
              "      <td>-0.256927</td>\n",
              "      <td>-0.271201</td>\n",
              "      <td>-0.264135</td>\n",
              "      <td>-0.277448</td>\n",
              "      <td>-0.270501</td>\n",
              "      <td>-0.254734</td>\n",
              "      <td>-0.393461</td>\n",
              "      <td>-0.26556</td>\n",
              "      <td>-0.283597</td>\n",
              "      <td>3.983298</td>\n",
              "      <td>-0.269799</td>\n",
              "    </tr>\n",
              "    <tr>\n",
              "      <th>3033</th>\n",
              "      <td>0.334041</td>\n",
              "      <td>0.072759</td>\n",
              "      <td>1.689888</td>\n",
              "      <td>-0.016144</td>\n",
              "      <td>-0.302336</td>\n",
              "      <td>-0.845154</td>\n",
              "      <td>0.101117</td>\n",
              "      <td>0.286350</td>\n",
              "      <td>4.493778e-01</td>\n",
              "      <td>0.177503</td>\n",
              "      <td>-1.592351e-01</td>\n",
              "      <td>-0.854653</td>\n",
              "      <td>0.049536</td>\n",
              "      <td>-0.09294</td>\n",
              "      <td>-1.0</td>\n",
              "      <td>1.017277</td>\n",
              "      <td>3.765634</td>\n",
              "      <td>-0.266978</td>\n",
              "      <td>-0.273991</td>\n",
              "      <td>-0.256927</td>\n",
              "      <td>-0.271201</td>\n",
              "      <td>-0.264135</td>\n",
              "      <td>-0.277448</td>\n",
              "      <td>-0.270501</td>\n",
              "      <td>-0.254734</td>\n",
              "      <td>-0.393461</td>\n",
              "      <td>-0.26556</td>\n",
              "      <td>-0.283597</td>\n",
              "      <td>-0.251048</td>\n",
              "      <td>-0.269799</td>\n",
              "    </tr>\n",
              "    <tr>\n",
              "      <th>3034</th>\n",
              "      <td>0.361215</td>\n",
              "      <td>0.083270</td>\n",
              "      <td>0.997202</td>\n",
              "      <td>-0.017859</td>\n",
              "      <td>-0.251779</td>\n",
              "      <td>-0.702655</td>\n",
              "      <td>0.181360</td>\n",
              "      <td>0.276630</td>\n",
              "      <td>4.938612e-01</td>\n",
              "      <td>-3.317065</td>\n",
              "      <td>-1.146194e-01</td>\n",
              "      <td>-0.397025</td>\n",
              "      <td>-0.004730</td>\n",
              "      <td>-0.09294</td>\n",
              "      <td>1.0</td>\n",
              "      <td>-0.983016</td>\n",
              "      <td>-0.265560</td>\n",
              "      <td>-0.266978</td>\n",
              "      <td>-0.273991</td>\n",
              "      <td>-0.256927</td>\n",
              "      <td>-0.271201</td>\n",
              "      <td>-0.264135</td>\n",
              "      <td>-0.277448</td>\n",
              "      <td>-0.270501</td>\n",
              "      <td>-0.254734</td>\n",
              "      <td>2.541547</td>\n",
              "      <td>-0.26556</td>\n",
              "      <td>-0.283597</td>\n",
              "      <td>-0.251048</td>\n",
              "      <td>-0.269799</td>\n",
              "    </tr>\n",
              "    <tr>\n",
              "      <th>3035</th>\n",
              "      <td>0.393084</td>\n",
              "      <td>0.208931</td>\n",
              "      <td>2.231965</td>\n",
              "      <td>0.019792</td>\n",
              "      <td>0.099157</td>\n",
              "      <td>-0.850778</td>\n",
              "      <td>0.270844</td>\n",
              "      <td>1.697880</td>\n",
              "      <td>5.460298e-01</td>\n",
              "      <td>0.179699</td>\n",
              "      <td>-3.943420e+00</td>\n",
              "      <td>-2.773240</td>\n",
              "      <td>-0.377008</td>\n",
              "      <td>-0.09294</td>\n",
              "      <td>1.0</td>\n",
              "      <td>-0.983016</td>\n",
              "      <td>3.765634</td>\n",
              "      <td>-0.266978</td>\n",
              "      <td>-0.273991</td>\n",
              "      <td>-0.256927</td>\n",
              "      <td>-0.271201</td>\n",
              "      <td>-0.264135</td>\n",
              "      <td>-0.277448</td>\n",
              "      <td>-0.270501</td>\n",
              "      <td>-0.254734</td>\n",
              "      <td>-0.393461</td>\n",
              "      <td>-0.26556</td>\n",
              "      <td>-0.283597</td>\n",
              "      <td>-0.251048</td>\n",
              "      <td>-0.269799</td>\n",
              "    </tr>\n",
              "  </tbody>\n",
              "</table>\n",
              "<p>3036 rows × 30 columns</p>\n",
              "</div>"
            ],
            "text/plain": [
              "      wind_speed(m/s)  ...  turbine_status_D\n",
              "0            0.341050  ...         -0.269799\n",
              "1            2.267890  ...         -0.269799\n",
              "2            0.349762  ...         -0.269799\n",
              "3            2.228395  ...         -0.269799\n",
              "4           -0.761178  ...         -0.269799\n",
              "...               ...  ...               ...\n",
              "3031        -2.186812  ...         -0.269799\n",
              "3032        -1.589179  ...         -0.269799\n",
              "3033         0.334041  ...         -0.269799\n",
              "3034         0.361215  ...         -0.269799\n",
              "3035         0.393084  ...         -0.269799\n",
              "\n",
              "[3036 rows x 30 columns]"
            ]
          },
          "metadata": {
            "tags": []
          },
          "execution_count": 13
        }
      ]
    },
    {
      "cell_type": "markdown",
      "metadata": {
        "id": "UvUtX7LpGZ1d"
      },
      "source": [
        ""
      ]
    },
    {
      "cell_type": "code",
      "metadata": {
        "colab": {
          "base_uri": "https://localhost:8080/"
        },
        "id": "xMUZchggGajT",
        "outputId": "23488e38-63f5-4ed9-8471-d7f2440a9ca8"
      },
      "source": [
        "print(x_train.shape)\n",
        "print(x_test.shape)"
      ],
      "execution_count": 14,
      "outputs": [
        {
          "output_type": "stream",
          "text": [
            "(2277, 30)\n",
            "(759, 30)\n"
          ],
          "name": "stdout"
        }
      ]
    },
    {
      "cell_type": "code",
      "metadata": {
        "colab": {
          "base_uri": "https://localhost:8080/"
        },
        "id": "AyxskIUXGSs4",
        "outputId": "babfeeec-4dc4-4a64-dbcf-240025e2fb36"
      },
      "source": [
        "from sklearn.ensemble import RandomForestRegressor\n",
        "regressor = RandomForestRegressor(n_estimators = 100, random_state = 1,max_features=29)\n",
        "regressor.fit(x_train,y_train)  "
      ],
      "execution_count": 65,
      "outputs": [
        {
          "output_type": "stream",
          "text": [
            "/usr/local/lib/python3.7/dist-packages/ipykernel_launcher.py:3: DataConversionWarning: A column-vector y was passed when a 1d array was expected. Please change the shape of y to (n_samples,), for example using ravel().\n",
            "  This is separate from the ipykernel package so we can avoid doing imports until\n"
          ],
          "name": "stderr"
        },
        {
          "output_type": "execute_result",
          "data": {
            "text/plain": [
              "RandomForestRegressor(bootstrap=True, ccp_alpha=0.0, criterion='mse',\n",
              "                      max_depth=None, max_features=29, max_leaf_nodes=None,\n",
              "                      max_samples=None, min_impurity_decrease=0.0,\n",
              "                      min_impurity_split=None, min_samples_leaf=1,\n",
              "                      min_samples_split=2, min_weight_fraction_leaf=0.0,\n",
              "                      n_estimators=1000, n_jobs=10, oob_score=False,\n",
              "                      random_state=1, verbose=0, warm_start=False)"
            ]
          },
          "metadata": {
            "tags": []
          },
          "execution_count": 65
        }
      ]
    },
    {
      "cell_type": "code",
      "metadata": {
        "colab": {
          "base_uri": "https://localhost:8080/"
        },
        "id": "yXfGXds_LxCk",
        "outputId": "b4752d65-6f66-4146-efa6-1b1c703d030e"
      },
      "source": [
        "regressor.score(x_test,y_test)"
      ],
      "execution_count": 66,
      "outputs": [
        {
          "output_type": "execute_result",
          "data": {
            "text/plain": [
              "0.9274895534432084"
            ]
          },
          "metadata": {
            "tags": []
          },
          "execution_count": 66
        }
      ]
    },
    {
      "cell_type": "code",
      "metadata": {
        "colab": {
          "base_uri": "https://localhost:8080/",
          "height": 774
        },
        "id": "OwkD82WyL22m",
        "outputId": "613a02b2-8322-40a8-85b9-35b52a73e01b"
      },
      "source": [
        "testdb = pd.read_csv('/content/test.csv')\n",
        "#main_db = main_db.dropna(subset=[\"tracking_id\",\"datetime\"])\n",
        "testdb"
      ],
      "execution_count": 27,
      "outputs": [
        {
          "output_type": "execute_result",
          "data": {
            "text/html": [
              "<div>\n",
              "<style scoped>\n",
              "    .dataframe tbody tr th:only-of-type {\n",
              "        vertical-align: middle;\n",
              "    }\n",
              "\n",
              "    .dataframe tbody tr th {\n",
              "        vertical-align: top;\n",
              "    }\n",
              "\n",
              "    .dataframe thead th {\n",
              "        text-align: right;\n",
              "    }\n",
              "</style>\n",
              "<table border=\"1\" class=\"dataframe\">\n",
              "  <thead>\n",
              "    <tr style=\"text-align: right;\">\n",
              "      <th></th>\n",
              "      <th>tracking_id</th>\n",
              "      <th>datetime</th>\n",
              "      <th>wind_speed(m/s)</th>\n",
              "      <th>atmospheric_temperature(°C)</th>\n",
              "      <th>shaft_temperature(°C)</th>\n",
              "      <th>blades_angle(°)</th>\n",
              "      <th>gearbox_temperature(°C)</th>\n",
              "      <th>engine_temperature(°C)</th>\n",
              "      <th>motor_torque(N-m)</th>\n",
              "      <th>generator_temperature(°C)</th>\n",
              "      <th>atmospheric_pressure(Pascal)</th>\n",
              "      <th>area_temperature(°C)</th>\n",
              "      <th>windmill_body_temperature(°C)</th>\n",
              "      <th>wind_direction(°)</th>\n",
              "      <th>resistance(ohm)</th>\n",
              "      <th>rotor_torque(N-m)</th>\n",
              "      <th>turbine_status</th>\n",
              "      <th>cloud_level</th>\n",
              "      <th>blade_length(m)</th>\n",
              "      <th>blade_breadth(m)</th>\n",
              "      <th>windmill_height(m)</th>\n",
              "    </tr>\n",
              "  </thead>\n",
              "  <tbody>\n",
              "    <tr>\n",
              "      <th>0</th>\n",
              "      <td>WM_19817</td>\n",
              "      <td>2019-04-17 08:53:20</td>\n",
              "      <td>94.324266</td>\n",
              "      <td>17.641186</td>\n",
              "      <td>89.714193</td>\n",
              "      <td>51.146788</td>\n",
              "      <td>40.460560</td>\n",
              "      <td>39.594734</td>\n",
              "      <td>1073.202715</td>\n",
              "      <td>66.830037</td>\n",
              "      <td>16681.044117</td>\n",
              "      <td>24.004812</td>\n",
              "      <td>43.756693</td>\n",
              "      <td>445.976992</td>\n",
              "      <td>1664.222023</td>\n",
              "      <td>21.912243</td>\n",
              "      <td>BA</td>\n",
              "      <td>Medium</td>\n",
              "      <td>3.185837</td>\n",
              "      <td>0.403965</td>\n",
              "      <td>25.572431</td>\n",
              "    </tr>\n",
              "    <tr>\n",
              "      <th>1</th>\n",
              "      <td>WM_18723</td>\n",
              "      <td>2019-03-30 07:43:20</td>\n",
              "      <td>10.088870</td>\n",
              "      <td>13.978119</td>\n",
              "      <td>43.272846</td>\n",
              "      <td>46.516394</td>\n",
              "      <td>40.027788</td>\n",
              "      <td>41.176860</td>\n",
              "      <td>517.436430</td>\n",
              "      <td>37.284163</td>\n",
              "      <td>NaN</td>\n",
              "      <td>29.431813</td>\n",
              "      <td>42.728174</td>\n",
              "      <td>499.595287</td>\n",
              "      <td>1165.111992</td>\n",
              "      <td>-35.050093</td>\n",
              "      <td>A</td>\n",
              "      <td>Medium</td>\n",
              "      <td>3.016603</td>\n",
              "      <td>0.444755</td>\n",
              "      <td>24.371823</td>\n",
              "    </tr>\n",
              "    <tr>\n",
              "      <th>2</th>\n",
              "      <td>WM_34552</td>\n",
              "      <td>2019-08-10 11:33:20</td>\n",
              "      <td>347.152090</td>\n",
              "      <td>31.423035</td>\n",
              "      <td>41.076640</td>\n",
              "      <td>26.931602</td>\n",
              "      <td>43.109122</td>\n",
              "      <td>43.439556</td>\n",
              "      <td>1480.716492</td>\n",
              "      <td>70.010762</td>\n",
              "      <td>214812.836175</td>\n",
              "      <td>29.924235</td>\n",
              "      <td>43.256122</td>\n",
              "      <td>245.432231</td>\n",
              "      <td>1667.720491</td>\n",
              "      <td>27.195302</td>\n",
              "      <td>B2</td>\n",
              "      <td>Medium</td>\n",
              "      <td>2.611941</td>\n",
              "      <td>0.387368</td>\n",
              "      <td>27.654677</td>\n",
              "    </tr>\n",
              "    <tr>\n",
              "      <th>3</th>\n",
              "      <td>WM_28570</td>\n",
              "      <td>2019-06-26 03:53:20</td>\n",
              "      <td>24.471997</td>\n",
              "      <td>-99.000000</td>\n",
              "      <td>14.375078</td>\n",
              "      <td>66.513953</td>\n",
              "      <td>13.741253</td>\n",
              "      <td>15.577472</td>\n",
              "      <td>887.979475</td>\n",
              "      <td>41.445258</td>\n",
              "      <td>NaN</td>\n",
              "      <td>23.886434</td>\n",
              "      <td>13.501595</td>\n",
              "      <td>NaN</td>\n",
              "      <td>1329.744740</td>\n",
              "      <td>15.245757</td>\n",
              "      <td>BBB</td>\n",
              "      <td>Low</td>\n",
              "      <td>2.866805</td>\n",
              "      <td>0.450478</td>\n",
              "      <td>24.189426</td>\n",
              "    </tr>\n",
              "    <tr>\n",
              "      <th>4</th>\n",
              "      <td>WM_36934</td>\n",
              "      <td>2019-08-27 16:43:20</td>\n",
              "      <td>96.997026</td>\n",
              "      <td>33.281836</td>\n",
              "      <td>41.405192</td>\n",
              "      <td>1.843112</td>\n",
              "      <td>121.572907</td>\n",
              "      <td>43.934587</td>\n",
              "      <td>2053.916354</td>\n",
              "      <td>68.007787</td>\n",
              "      <td>16833.546517</td>\n",
              "      <td>35.906889</td>\n",
              "      <td>-99.000000</td>\n",
              "      <td>442.425744</td>\n",
              "      <td>691.408996</td>\n",
              "      <td>34.257024</td>\n",
              "      <td>A</td>\n",
              "      <td>Low</td>\n",
              "      <td>3.549672</td>\n",
              "      <td>0.368355</td>\n",
              "      <td>4.885440</td>\n",
              "    </tr>\n",
              "    <tr>\n",
              "      <th>...</th>\n",
              "      <td>...</td>\n",
              "      <td>...</td>\n",
              "      <td>...</td>\n",
              "      <td>...</td>\n",
              "      <td>...</td>\n",
              "      <td>...</td>\n",
              "      <td>...</td>\n",
              "      <td>...</td>\n",
              "      <td>...</td>\n",
              "      <td>...</td>\n",
              "      <td>...</td>\n",
              "      <td>...</td>\n",
              "      <td>...</td>\n",
              "      <td>...</td>\n",
              "      <td>...</td>\n",
              "      <td>...</td>\n",
              "      <td>...</td>\n",
              "      <td>...</td>\n",
              "      <td>...</td>\n",
              "      <td>...</td>\n",
              "      <td>...</td>\n",
              "    </tr>\n",
              "    <tr>\n",
              "      <th>12081</th>\n",
              "      <td>WM_13376</td>\n",
              "      <td>2019-02-12 11:33:20</td>\n",
              "      <td>-15.039400</td>\n",
              "      <td>18.517204</td>\n",
              "      <td>43.545409</td>\n",
              "      <td>-1.094038</td>\n",
              "      <td>44.550547</td>\n",
              "      <td>44.486619</td>\n",
              "      <td>2424.370244</td>\n",
              "      <td>75.850209</td>\n",
              "      <td>17239.345506</td>\n",
              "      <td>28.424722</td>\n",
              "      <td>42.128526</td>\n",
              "      <td>509.795489</td>\n",
              "      <td>1798.141681</td>\n",
              "      <td>-14.365696</td>\n",
              "      <td>NaN</td>\n",
              "      <td>Medium</td>\n",
              "      <td>3.286975</td>\n",
              "      <td>0.407771</td>\n",
              "      <td>20.888674</td>\n",
              "    </tr>\n",
              "    <tr>\n",
              "      <th>12082</th>\n",
              "      <td>WM_1630</td>\n",
              "      <td>2018-11-12 17:33:20</td>\n",
              "      <td>97.594116</td>\n",
              "      <td>-99.000000</td>\n",
              "      <td>44.747916</td>\n",
              "      <td>1.750553</td>\n",
              "      <td>43.308176</td>\n",
              "      <td>42.848779</td>\n",
              "      <td>2085.627252</td>\n",
              "      <td>73.091866</td>\n",
              "      <td>17131.448669</td>\n",
              "      <td>50.615296</td>\n",
              "      <td>47.353528</td>\n",
              "      <td>345.705839</td>\n",
              "      <td>1680.245230</td>\n",
              "      <td>-7.062661</td>\n",
              "      <td>AB</td>\n",
              "      <td>Low</td>\n",
              "      <td>NaN</td>\n",
              "      <td>0.367823</td>\n",
              "      <td>24.793606</td>\n",
              "    </tr>\n",
              "    <tr>\n",
              "      <th>12083</th>\n",
              "      <td>WM_24703</td>\n",
              "      <td>2019-05-27 11:53:20</td>\n",
              "      <td>16.186805</td>\n",
              "      <td>8.109976</td>\n",
              "      <td>43.252012</td>\n",
              "      <td>-0.691090</td>\n",
              "      <td>214.904165</td>\n",
              "      <td>41.177782</td>\n",
              "      <td>788.687177</td>\n",
              "      <td>39.514258</td>\n",
              "      <td>118707.643665</td>\n",
              "      <td>20.983939</td>\n",
              "      <td>41.768478</td>\n",
              "      <td>205.569627</td>\n",
              "      <td>2343.165194</td>\n",
              "      <td>12.331790</td>\n",
              "      <td>BA</td>\n",
              "      <td>Low</td>\n",
              "      <td>3.728375</td>\n",
              "      <td>0.459887</td>\n",
              "      <td>5.653451</td>\n",
              "    </tr>\n",
              "    <tr>\n",
              "      <th>12084</th>\n",
              "      <td>WM_22893</td>\n",
              "      <td>2019-05-13 21:53:20</td>\n",
              "      <td>93.254033</td>\n",
              "      <td>-99.000000</td>\n",
              "      <td>43.841789</td>\n",
              "      <td>-1.171974</td>\n",
              "      <td>41.976913</td>\n",
              "      <td>42.039796</td>\n",
              "      <td>2079.855634</td>\n",
              "      <td>71.482324</td>\n",
              "      <td>17155.269313</td>\n",
              "      <td>29.114305</td>\n",
              "      <td>82.750271</td>\n",
              "      <td>260.578999</td>\n",
              "      <td>1732.883672</td>\n",
              "      <td>NaN</td>\n",
              "      <td>A</td>\n",
              "      <td>Medium</td>\n",
              "      <td>2.247676</td>\n",
              "      <td>0.394680</td>\n",
              "      <td>24.591364</td>\n",
              "    </tr>\n",
              "    <tr>\n",
              "      <th>12085</th>\n",
              "      <td>WM_14513</td>\n",
              "      <td>2019-02-20 23:43:20</td>\n",
              "      <td>42.607485</td>\n",
              "      <td>13.245828</td>\n",
              "      <td>43.480982</td>\n",
              "      <td>9.258178</td>\n",
              "      <td>132.587960</td>\n",
              "      <td>46.312684</td>\n",
              "      <td>969.733090</td>\n",
              "      <td>46.777642</td>\n",
              "      <td>130018.594173</td>\n",
              "      <td>39.491015</td>\n",
              "      <td>97.070812</td>\n",
              "      <td>NaN</td>\n",
              "      <td>-99.000000</td>\n",
              "      <td>19.467561</td>\n",
              "      <td>A2</td>\n",
              "      <td>Medium</td>\n",
              "      <td>NaN</td>\n",
              "      <td>0.490893</td>\n",
              "      <td>21.665001</td>\n",
              "    </tr>\n",
              "  </tbody>\n",
              "</table>\n",
              "<p>12086 rows × 21 columns</p>\n",
              "</div>"
            ],
            "text/plain": [
              "      tracking_id             datetime  ...  blade_breadth(m)  windmill_height(m)\n",
              "0        WM_19817  2019-04-17 08:53:20  ...          0.403965           25.572431\n",
              "1        WM_18723  2019-03-30 07:43:20  ...          0.444755           24.371823\n",
              "2        WM_34552  2019-08-10 11:33:20  ...          0.387368           27.654677\n",
              "3        WM_28570  2019-06-26 03:53:20  ...          0.450478           24.189426\n",
              "4        WM_36934  2019-08-27 16:43:20  ...          0.368355            4.885440\n",
              "...           ...                  ...  ...               ...                 ...\n",
              "12081    WM_13376  2019-02-12 11:33:20  ...          0.407771           20.888674\n",
              "12082     WM_1630  2018-11-12 17:33:20  ...          0.367823           24.793606\n",
              "12083    WM_24703  2019-05-27 11:53:20  ...          0.459887            5.653451\n",
              "12084    WM_22893  2019-05-13 21:53:20  ...          0.394680           24.591364\n",
              "12085    WM_14513  2019-02-20 23:43:20  ...          0.490893           21.665001\n",
              "\n",
              "[12086 rows x 21 columns]"
            ]
          },
          "metadata": {
            "tags": []
          },
          "execution_count": 27
        }
      ]
    },
    {
      "cell_type": "code",
      "metadata": {
        "id": "0TnxkuddMZSS"
      },
      "source": [
        "testdb = testdb.dropna(subset=[\"tracking_id\",\"datetime\"])\n",
        "testdb = testdb.drop(columns=['wind_direction(°)','blade_length(m)','atmospheric_pressure(Pascal)','atmospheric_temperature(°C)'])"
      ],
      "execution_count": 28,
      "outputs": []
    },
    {
      "cell_type": "code",
      "metadata": {
        "colab": {
          "base_uri": "https://localhost:8080/"
        },
        "id": "dI7-R2szMcwG",
        "outputId": "918735ed-56cb-443d-b126-927c3ebbe25a"
      },
      "source": [
        "print(str(testdb.isnull().sum()))"
      ],
      "execution_count": 29,
      "outputs": [
        {
          "output_type": "stream",
          "text": [
            "tracking_id                        0\n",
            "datetime                           0\n",
            "wind_speed(m/s)                  126\n",
            "shaft_temperature(°C)              1\n",
            "blades_angle(°)                  106\n",
            "gearbox_temperature(°C)            1\n",
            "engine_temperature(°C)             5\n",
            "motor_torque(N-m)                 11\n",
            "generator_temperature(°C)          5\n",
            "area_temperature(°C)               1\n",
            "windmill_body_temperature(°C)    926\n",
            "resistance(ohm)                    0\n",
            "rotor_torque(N-m)                281\n",
            "turbine_status                   797\n",
            "cloud_level                      125\n",
            "blade_breadth(m)                   0\n",
            "windmill_height(m)               255\n",
            "dtype: int64\n"
          ],
          "name": "stdout"
        }
      ]
    },
    {
      "cell_type": "code",
      "metadata": {
        "colab": {
          "base_uri": "https://localhost:8080/"
        },
        "id": "tsKRe8flMmjh",
        "outputId": "af39c7a0-0dc2-40d8-a5a3-106a41a29304"
      },
      "source": [
        "print(testdb[\"cloud_level\"].mode())\n",
        "print(testdb[\"turbine_status\"].mode())\n",
        "testdb[\"cloud_level\"].fillna(\"Low\",inplace=True)\n",
        "testdb[\"turbine_status\"].fillna(\"BB\",inplace=True)\n",
        "testdb = testdb.fillna(testdb.mean())"
      ],
      "execution_count": 30,
      "outputs": [
        {
          "output_type": "stream",
          "text": [
            "0    Low\n",
            "dtype: object\n",
            "0    BB\n",
            "dtype: object\n"
          ],
          "name": "stdout"
        }
      ]
    },
    {
      "cell_type": "code",
      "metadata": {
        "colab": {
          "base_uri": "https://localhost:8080/"
        },
        "id": "dfkm-_HzM0P0",
        "outputId": "0fead00e-645f-4c33-8873-ae3008010f5c"
      },
      "source": [
        "l = []\n",
        "tid=np.array(testdb[\"tracking_id\"])\n",
        "dt = np.array(testdb[\"datetime\"])\n",
        "ndb = testdb.drop(columns=[\"tracking_id\",'datetime'])\n",
        "ndb1 = pd.get_dummies(ndb,columns = [\"cloud_level\",\"turbine_status\"])\n",
        "ndb1 = scaler.fit_transform(ndb1)\n",
        "ndb1"
      ],
      "execution_count": 31,
      "outputs": [
        {
          "output_type": "execute_result",
          "data": {
            "text/plain": [
              "array([[ 0.32940966,  1.83598231,  1.27451617, ..., -0.26819591,\n",
              "        -0.263917  , -0.2637376 ],\n",
              "       [-0.78307142,  0.12305416,  1.17675285, ..., -0.26819591,\n",
              "        -0.263917  , -0.2637376 ],\n",
              "       [ 3.66845927,  0.04204996,  0.76325146, ..., -0.26819591,\n",
              "        -0.263917  , -0.2637376 ],\n",
              "       ...,\n",
              "       [-0.70253713,  0.12228569,  0.18004274, ..., -0.26819591,\n",
              "        -0.263917  , -0.2637376 ],\n",
              "       [ 0.31527529,  0.14403884,  0.16988964, ..., -0.26819591,\n",
              "        -0.263917  , -0.2637376 ],\n",
              "       [-0.35360417,  0.13073095,  0.39010554, ..., -0.26819591,\n",
              "        -0.263917  , -0.2637376 ]])"
            ]
          },
          "metadata": {
            "tags": []
          },
          "execution_count": 31
        }
      ]
    },
    {
      "cell_type": "code",
      "metadata": {
        "colab": {
          "base_uri": "https://localhost:8080/"
        },
        "id": "0x2mfupFNTCO",
        "outputId": "acc96a7e-6d0c-471a-879d-fc0ba713b708"
      },
      "source": [
        "regressor.predict(ndb1)"
      ],
      "execution_count": 32,
      "outputs": [
        {
          "output_type": "execute_result",
          "data": {
            "text/plain": [
              "array([-1.32917701, -1.3276574 , -0.9296969 , ..., -0.22920311,\n",
              "       -0.2544258 ,  1.46465498])"
            ]
          },
          "metadata": {
            "tags": []
          },
          "execution_count": 32
        }
      ]
    },
    {
      "cell_type": "code",
      "metadata": {
        "colab": {
          "base_uri": "https://localhost:8080/",
          "height": 402
        },
        "id": "MtVp0QTeOw58",
        "outputId": "e38c914a-494d-445b-933c-5e5508b1f9bf"
      },
      "source": [
        "finaldb = pd.DataFrame()\n",
        "finaldb[\"tracking_id\"]=tid\n",
        "finaldb[\"datetime\"]=dt\n",
        "\n",
        "finaldb[\"windmill_generated_power(kW/h)\"]=regressor.predict(ndb1)\n",
        "finaldb"
      ],
      "execution_count": 33,
      "outputs": [
        {
          "output_type": "execute_result",
          "data": {
            "text/html": [
              "<div>\n",
              "<style scoped>\n",
              "    .dataframe tbody tr th:only-of-type {\n",
              "        vertical-align: middle;\n",
              "    }\n",
              "\n",
              "    .dataframe tbody tr th {\n",
              "        vertical-align: top;\n",
              "    }\n",
              "\n",
              "    .dataframe thead th {\n",
              "        text-align: right;\n",
              "    }\n",
              "</style>\n",
              "<table border=\"1\" class=\"dataframe\">\n",
              "  <thead>\n",
              "    <tr style=\"text-align: right;\">\n",
              "      <th></th>\n",
              "      <th>tracking_id</th>\n",
              "      <th>datetime</th>\n",
              "      <th>windmill_generated_power(kW/h)</th>\n",
              "    </tr>\n",
              "  </thead>\n",
              "  <tbody>\n",
              "    <tr>\n",
              "      <th>0</th>\n",
              "      <td>WM_19817</td>\n",
              "      <td>2019-04-17 08:53:20</td>\n",
              "      <td>-1.329177</td>\n",
              "    </tr>\n",
              "    <tr>\n",
              "      <th>1</th>\n",
              "      <td>WM_18723</td>\n",
              "      <td>2019-03-30 07:43:20</td>\n",
              "      <td>-1.327657</td>\n",
              "    </tr>\n",
              "    <tr>\n",
              "      <th>2</th>\n",
              "      <td>WM_34552</td>\n",
              "      <td>2019-08-10 11:33:20</td>\n",
              "      <td>-0.929697</td>\n",
              "    </tr>\n",
              "    <tr>\n",
              "      <th>3</th>\n",
              "      <td>WM_28570</td>\n",
              "      <td>2019-06-26 03:53:20</td>\n",
              "      <td>-0.866697</td>\n",
              "    </tr>\n",
              "    <tr>\n",
              "      <th>4</th>\n",
              "      <td>WM_36934</td>\n",
              "      <td>2019-08-27 16:43:20</td>\n",
              "      <td>-1.017101</td>\n",
              "    </tr>\n",
              "    <tr>\n",
              "      <th>...</th>\n",
              "      <td>...</td>\n",
              "      <td>...</td>\n",
              "      <td>...</td>\n",
              "    </tr>\n",
              "    <tr>\n",
              "      <th>12081</th>\n",
              "      <td>WM_13376</td>\n",
              "      <td>2019-02-12 11:33:20</td>\n",
              "      <td>0.198149</td>\n",
              "    </tr>\n",
              "    <tr>\n",
              "      <th>12082</th>\n",
              "      <td>WM_1630</td>\n",
              "      <td>2018-11-12 17:33:20</td>\n",
              "      <td>-0.993642</td>\n",
              "    </tr>\n",
              "    <tr>\n",
              "      <th>12083</th>\n",
              "      <td>WM_24703</td>\n",
              "      <td>2019-05-27 11:53:20</td>\n",
              "      <td>-0.229203</td>\n",
              "    </tr>\n",
              "    <tr>\n",
              "      <th>12084</th>\n",
              "      <td>WM_22893</td>\n",
              "      <td>2019-05-13 21:53:20</td>\n",
              "      <td>-0.254426</td>\n",
              "    </tr>\n",
              "    <tr>\n",
              "      <th>12085</th>\n",
              "      <td>WM_14513</td>\n",
              "      <td>2019-02-20 23:43:20</td>\n",
              "      <td>1.464655</td>\n",
              "    </tr>\n",
              "  </tbody>\n",
              "</table>\n",
              "<p>12086 rows × 3 columns</p>\n",
              "</div>"
            ],
            "text/plain": [
              "      tracking_id             datetime  windmill_generated_power(kW/h)\n",
              "0        WM_19817  2019-04-17 08:53:20                       -1.329177\n",
              "1        WM_18723  2019-03-30 07:43:20                       -1.327657\n",
              "2        WM_34552  2019-08-10 11:33:20                       -0.929697\n",
              "3        WM_28570  2019-06-26 03:53:20                       -0.866697\n",
              "4        WM_36934  2019-08-27 16:43:20                       -1.017101\n",
              "...           ...                  ...                             ...\n",
              "12081    WM_13376  2019-02-12 11:33:20                        0.198149\n",
              "12082     WM_1630  2018-11-12 17:33:20                       -0.993642\n",
              "12083    WM_24703  2019-05-27 11:53:20                       -0.229203\n",
              "12084    WM_22893  2019-05-13 21:53:20                       -0.254426\n",
              "12085    WM_14513  2019-02-20 23:43:20                        1.464655\n",
              "\n",
              "[12086 rows x 3 columns]"
            ]
          },
          "metadata": {
            "tags": []
          },
          "execution_count": 33
        }
      ]
    },
    {
      "cell_type": "code",
      "metadata": {
        "colab": {
          "base_uri": "https://localhost:8080/",
          "height": 402
        },
        "id": "BSkcRJXxURI7",
        "outputId": "1b2a24e4-a9c1-44db-c85e-f61dd14a0f1a"
      },
      "source": [
        "#finaldb[\"windmill_generated_power(kW/h)\"] = finaldb[\"windmill_generated_power(kW/h)\"]\n",
        "l = pd.DataFrame(finaldb)\n",
        "l_data = s.inverse_transform(finaldb[\"windmill_generated_power(kW/h)\"])\n",
        "l_data\n",
        "finaldb[\"windmill_generated_power(kW/h)\"]=np.array(l_data)\n",
        "finaldb"
      ],
      "execution_count": 34,
      "outputs": [
        {
          "output_type": "execute_result",
          "data": {
            "text/html": [
              "<div>\n",
              "<style scoped>\n",
              "    .dataframe tbody tr th:only-of-type {\n",
              "        vertical-align: middle;\n",
              "    }\n",
              "\n",
              "    .dataframe tbody tr th {\n",
              "        vertical-align: top;\n",
              "    }\n",
              "\n",
              "    .dataframe thead th {\n",
              "        text-align: right;\n",
              "    }\n",
              "</style>\n",
              "<table border=\"1\" class=\"dataframe\">\n",
              "  <thead>\n",
              "    <tr style=\"text-align: right;\">\n",
              "      <th></th>\n",
              "      <th>tracking_id</th>\n",
              "      <th>datetime</th>\n",
              "      <th>windmill_generated_power(kW/h)</th>\n",
              "    </tr>\n",
              "  </thead>\n",
              "  <tbody>\n",
              "    <tr>\n",
              "      <th>0</th>\n",
              "      <td>WM_19817</td>\n",
              "      <td>2019-04-17 08:53:20</td>\n",
              "      <td>2.490469</td>\n",
              "    </tr>\n",
              "    <tr>\n",
              "      <th>1</th>\n",
              "      <td>WM_18723</td>\n",
              "      <td>2019-03-30 07:43:20</td>\n",
              "      <td>2.494570</td>\n",
              "    </tr>\n",
              "    <tr>\n",
              "      <th>2</th>\n",
              "      <td>WM_34552</td>\n",
              "      <td>2019-08-10 11:33:20</td>\n",
              "      <td>3.568548</td>\n",
              "    </tr>\n",
              "    <tr>\n",
              "      <th>3</th>\n",
              "      <td>WM_28570</td>\n",
              "      <td>2019-06-26 03:53:20</td>\n",
              "      <td>3.738566</td>\n",
              "    </tr>\n",
              "    <tr>\n",
              "      <th>4</th>\n",
              "      <td>WM_36934</td>\n",
              "      <td>2019-08-27 16:43:20</td>\n",
              "      <td>3.332671</td>\n",
              "    </tr>\n",
              "    <tr>\n",
              "      <th>...</th>\n",
              "      <td>...</td>\n",
              "      <td>...</td>\n",
              "      <td>...</td>\n",
              "    </tr>\n",
              "    <tr>\n",
              "      <th>12081</th>\n",
              "      <td>WM_13376</td>\n",
              "      <td>2019-02-12 11:33:20</td>\n",
              "      <td>6.612273</td>\n",
              "    </tr>\n",
              "    <tr>\n",
              "      <th>12082</th>\n",
              "      <td>WM_1630</td>\n",
              "      <td>2018-11-12 17:33:20</td>\n",
              "      <td>3.395979</td>\n",
              "    </tr>\n",
              "    <tr>\n",
              "      <th>12083</th>\n",
              "      <td>WM_24703</td>\n",
              "      <td>2019-05-27 11:53:20</td>\n",
              "      <td>5.458975</td>\n",
              "    </tr>\n",
              "    <tr>\n",
              "      <th>12084</th>\n",
              "      <td>WM_22893</td>\n",
              "      <td>2019-05-13 21:53:20</td>\n",
              "      <td>5.390906</td>\n",
              "    </tr>\n",
              "    <tr>\n",
              "      <th>12085</th>\n",
              "      <td>WM_14513</td>\n",
              "      <td>2019-02-20 23:43:20</td>\n",
              "      <td>10.030199</td>\n",
              "    </tr>\n",
              "  </tbody>\n",
              "</table>\n",
              "<p>12086 rows × 3 columns</p>\n",
              "</div>"
            ],
            "text/plain": [
              "      tracking_id             datetime  windmill_generated_power(kW/h)\n",
              "0        WM_19817  2019-04-17 08:53:20                        2.490469\n",
              "1        WM_18723  2019-03-30 07:43:20                        2.494570\n",
              "2        WM_34552  2019-08-10 11:33:20                        3.568548\n",
              "3        WM_28570  2019-06-26 03:53:20                        3.738566\n",
              "4        WM_36934  2019-08-27 16:43:20                        3.332671\n",
              "...           ...                  ...                             ...\n",
              "12081    WM_13376  2019-02-12 11:33:20                        6.612273\n",
              "12082     WM_1630  2018-11-12 17:33:20                        3.395979\n",
              "12083    WM_24703  2019-05-27 11:53:20                        5.458975\n",
              "12084    WM_22893  2019-05-13 21:53:20                        5.390906\n",
              "12085    WM_14513  2019-02-20 23:43:20                       10.030199\n",
              "\n",
              "[12086 rows x 3 columns]"
            ]
          },
          "metadata": {
            "tags": []
          },
          "execution_count": 34
        }
      ]
    },
    {
      "cell_type": "code",
      "metadata": {
        "id": "yjb8r6yUPG02"
      },
      "source": [
        "finaldb.to_csv(\"s3.csv\")"
      ],
      "execution_count": 35,
      "outputs": []
    },
    {
      "cell_type": "code",
      "metadata": {
        "id": "FPVu-42tPp_9"
      },
      "source": [
        "from sklearn.tree import DecisionTreeRegressor\n",
        "clf = DecisionTreeRegressor(random_state=1,criterion='mse',max_features=25) "
      ],
      "execution_count": 220,
      "outputs": []
    },
    {
      "cell_type": "code",
      "metadata": {
        "colab": {
          "base_uri": "https://localhost:8080/"
        },
        "id": "UHgzHPb4pnoF",
        "outputId": "7ff33873-1fe8-4ea8-8b19-1f3367c8ef3c"
      },
      "source": [
        "clf.fit(X.astype(\"float\"),Y.astype(\"float\"))"
      ],
      "execution_count": 221,
      "outputs": [
        {
          "output_type": "execute_result",
          "data": {
            "text/plain": [
              "DecisionTreeRegressor(ccp_alpha=0.0, criterion='mse', max_depth=None,\n",
              "                      max_features=25, max_leaf_nodes=None,\n",
              "                      min_impurity_decrease=0.0, min_impurity_split=None,\n",
              "                      min_samples_leaf=1, min_samples_split=2,\n",
              "                      min_weight_fraction_leaf=0.0, presort='deprecated',\n",
              "                      random_state=1, splitter='best')"
            ]
          },
          "metadata": {
            "tags": []
          },
          "execution_count": 221
        }
      ]
    },
    {
      "cell_type": "code",
      "metadata": {
        "colab": {
          "base_uri": "https://localhost:8080/"
        },
        "id": "IRrZ8wueqCON",
        "outputId": "d3bee7d0-6219-4b59-ccfc-02887788f868"
      },
      "source": [
        "clf.score(x_train.astype(\"float\"),y_train.astype(\"float\"))"
      ],
      "execution_count": 222,
      "outputs": [
        {
          "output_type": "execute_result",
          "data": {
            "text/plain": [
              "0.9999999986585956"
            ]
          },
          "metadata": {
            "tags": []
          },
          "execution_count": 222
        }
      ]
    },
    {
      "cell_type": "code",
      "metadata": {
        "id": "QHaUEzsJq51t"
      },
      "source": [
        "l = clf.predict(ndb1)"
      ],
      "execution_count": 223,
      "outputs": []
    },
    {
      "cell_type": "code",
      "metadata": {
        "colab": {
          "base_uri": "https://localhost:8080/"
        },
        "id": "5KBQmi9grQwH",
        "outputId": "089f73b5-3143-4781-a684-ab3370e5d5df"
      },
      "source": [
        "l"
      ],
      "execution_count": 224,
      "outputs": [
        {
          "output_type": "execute_result",
          "data": {
            "text/plain": [
              "array([-1.19940821, -1.2461163 , -0.83269924, ..., -0.31816373,\n",
              "       -0.21570704,  1.71722349])"
            ]
          },
          "metadata": {
            "tags": []
          },
          "execution_count": 224
        }
      ]
    },
    {
      "cell_type": "code",
      "metadata": {
        "colab": {
          "base_uri": "https://localhost:8080/",
          "height": 402
        },
        "id": "lSbtpnLurRjG",
        "outputId": "5e2c8147-a7f1-43a3-f7cc-f49d5e025169"
      },
      "source": [
        "finaldb_dt = pd.DataFrame()\n",
        "finaldb_dt[\"tracking_id\"]=tid\n",
        "finaldb_dt[\"datetime\"]=dt\n",
        "\n",
        "finaldb_dt[\"windmill_generated_power(kW/h)\"]=l\n",
        "finaldb_dt"
      ],
      "execution_count": 225,
      "outputs": [
        {
          "output_type": "execute_result",
          "data": {
            "text/html": [
              "<div>\n",
              "<style scoped>\n",
              "    .dataframe tbody tr th:only-of-type {\n",
              "        vertical-align: middle;\n",
              "    }\n",
              "\n",
              "    .dataframe tbody tr th {\n",
              "        vertical-align: top;\n",
              "    }\n",
              "\n",
              "    .dataframe thead th {\n",
              "        text-align: right;\n",
              "    }\n",
              "</style>\n",
              "<table border=\"1\" class=\"dataframe\">\n",
              "  <thead>\n",
              "    <tr style=\"text-align: right;\">\n",
              "      <th></th>\n",
              "      <th>tracking_id</th>\n",
              "      <th>datetime</th>\n",
              "      <th>windmill_generated_power(kW/h)</th>\n",
              "    </tr>\n",
              "  </thead>\n",
              "  <tbody>\n",
              "    <tr>\n",
              "      <th>0</th>\n",
              "      <td>WM_19817</td>\n",
              "      <td>2019-04-17 08:53:20</td>\n",
              "      <td>-1.199408</td>\n",
              "    </tr>\n",
              "    <tr>\n",
              "      <th>1</th>\n",
              "      <td>WM_18723</td>\n",
              "      <td>2019-03-30 07:43:20</td>\n",
              "      <td>-1.246116</td>\n",
              "    </tr>\n",
              "    <tr>\n",
              "      <th>2</th>\n",
              "      <td>WM_34552</td>\n",
              "      <td>2019-08-10 11:33:20</td>\n",
              "      <td>-0.832699</td>\n",
              "    </tr>\n",
              "    <tr>\n",
              "      <th>3</th>\n",
              "      <td>WM_28570</td>\n",
              "      <td>2019-06-26 03:53:20</td>\n",
              "      <td>0.316164</td>\n",
              "    </tr>\n",
              "    <tr>\n",
              "      <th>4</th>\n",
              "      <td>WM_36934</td>\n",
              "      <td>2019-08-27 16:43:20</td>\n",
              "      <td>-0.916822</td>\n",
              "    </tr>\n",
              "    <tr>\n",
              "      <th>...</th>\n",
              "      <td>...</td>\n",
              "      <td>...</td>\n",
              "      <td>...</td>\n",
              "    </tr>\n",
              "    <tr>\n",
              "      <th>12081</th>\n",
              "      <td>WM_13376</td>\n",
              "      <td>2019-02-12 11:33:20</td>\n",
              "      <td>0.307235</td>\n",
              "    </tr>\n",
              "    <tr>\n",
              "      <th>12082</th>\n",
              "      <td>WM_1630</td>\n",
              "      <td>2018-11-12 17:33:20</td>\n",
              "      <td>-0.654420</td>\n",
              "    </tr>\n",
              "    <tr>\n",
              "      <th>12083</th>\n",
              "      <td>WM_24703</td>\n",
              "      <td>2019-05-27 11:53:20</td>\n",
              "      <td>-0.318164</td>\n",
              "    </tr>\n",
              "    <tr>\n",
              "      <th>12084</th>\n",
              "      <td>WM_22893</td>\n",
              "      <td>2019-05-13 21:53:20</td>\n",
              "      <td>-0.215707</td>\n",
              "    </tr>\n",
              "    <tr>\n",
              "      <th>12085</th>\n",
              "      <td>WM_14513</td>\n",
              "      <td>2019-02-20 23:43:20</td>\n",
              "      <td>1.717223</td>\n",
              "    </tr>\n",
              "  </tbody>\n",
              "</table>\n",
              "<p>12086 rows × 3 columns</p>\n",
              "</div>"
            ],
            "text/plain": [
              "      tracking_id             datetime  windmill_generated_power(kW/h)\n",
              "0        WM_19817  2019-04-17 08:53:20                       -1.199408\n",
              "1        WM_18723  2019-03-30 07:43:20                       -1.246116\n",
              "2        WM_34552  2019-08-10 11:33:20                       -0.832699\n",
              "3        WM_28570  2019-06-26 03:53:20                        0.316164\n",
              "4        WM_36934  2019-08-27 16:43:20                       -0.916822\n",
              "...           ...                  ...                             ...\n",
              "12081    WM_13376  2019-02-12 11:33:20                        0.307235\n",
              "12082     WM_1630  2018-11-12 17:33:20                       -0.654420\n",
              "12083    WM_24703  2019-05-27 11:53:20                       -0.318164\n",
              "12084    WM_22893  2019-05-13 21:53:20                       -0.215707\n",
              "12085    WM_14513  2019-02-20 23:43:20                        1.717223\n",
              "\n",
              "[12086 rows x 3 columns]"
            ]
          },
          "metadata": {
            "tags": []
          },
          "execution_count": 225
        }
      ]
    },
    {
      "cell_type": "code",
      "metadata": {
        "colab": {
          "base_uri": "https://localhost:8080/",
          "height": 402
        },
        "id": "Qt_jg2HureR_",
        "outputId": "63c6832c-8906-4d05-f5bb-d9e4ca0a11b8"
      },
      "source": [
        "dt = pd.DataFrame(finaldb_dt)\n",
        "l_data = s.inverse_transform(finaldb_dt[\"windmill_generated_power(kW/h)\"])\n",
        "l_data\n",
        "finaldb_dt[\"windmill_generated_power(kW/h)\"]=np.array(l_data)\n",
        "finaldb_dt"
      ],
      "execution_count": 226,
      "outputs": [
        {
          "output_type": "execute_result",
          "data": {
            "text/html": [
              "<div>\n",
              "<style scoped>\n",
              "    .dataframe tbody tr th:only-of-type {\n",
              "        vertical-align: middle;\n",
              "    }\n",
              "\n",
              "    .dataframe tbody tr th {\n",
              "        vertical-align: top;\n",
              "    }\n",
              "\n",
              "    .dataframe thead th {\n",
              "        text-align: right;\n",
              "    }\n",
              "</style>\n",
              "<table border=\"1\" class=\"dataframe\">\n",
              "  <thead>\n",
              "    <tr style=\"text-align: right;\">\n",
              "      <th></th>\n",
              "      <th>tracking_id</th>\n",
              "      <th>datetime</th>\n",
              "      <th>windmill_generated_power(kW/h)</th>\n",
              "    </tr>\n",
              "  </thead>\n",
              "  <tbody>\n",
              "    <tr>\n",
              "      <th>0</th>\n",
              "      <td>WM_19817</td>\n",
              "      <td>2019-04-17 08:53:20</td>\n",
              "      <td>2.907055</td>\n",
              "    </tr>\n",
              "    <tr>\n",
              "      <th>1</th>\n",
              "      <td>WM_18723</td>\n",
              "      <td>2019-03-30 07:43:20</td>\n",
              "      <td>2.781525</td>\n",
              "    </tr>\n",
              "    <tr>\n",
              "      <th>2</th>\n",
              "      <td>WM_34552</td>\n",
              "      <td>2019-08-10 11:33:20</td>\n",
              "      <td>3.892605</td>\n",
              "    </tr>\n",
              "    <tr>\n",
              "      <th>3</th>\n",
              "      <td>WM_28570</td>\n",
              "      <td>2019-06-26 03:53:20</td>\n",
              "      <td>6.980237</td>\n",
              "    </tr>\n",
              "    <tr>\n",
              "      <th>4</th>\n",
              "      <td>WM_36934</td>\n",
              "      <td>2019-08-27 16:43:20</td>\n",
              "      <td>3.666520</td>\n",
              "    </tr>\n",
              "    <tr>\n",
              "      <th>...</th>\n",
              "      <td>...</td>\n",
              "      <td>...</td>\n",
              "      <td>...</td>\n",
              "    </tr>\n",
              "    <tr>\n",
              "      <th>12081</th>\n",
              "      <td>WM_13376</td>\n",
              "      <td>2019-02-12 11:33:20</td>\n",
              "      <td>6.956239</td>\n",
              "    </tr>\n",
              "    <tr>\n",
              "      <th>12082</th>\n",
              "      <td>WM_1630</td>\n",
              "      <td>2018-11-12 17:33:20</td>\n",
              "      <td>4.371740</td>\n",
              "    </tr>\n",
              "    <tr>\n",
              "      <th>12083</th>\n",
              "      <td>WM_24703</td>\n",
              "      <td>2019-05-27 11:53:20</td>\n",
              "      <td>5.275447</td>\n",
              "    </tr>\n",
              "    <tr>\n",
              "      <th>12084</th>\n",
              "      <td>WM_22893</td>\n",
              "      <td>2019-05-13 21:53:20</td>\n",
              "      <td>5.550805</td>\n",
              "    </tr>\n",
              "    <tr>\n",
              "      <th>12085</th>\n",
              "      <td>WM_14513</td>\n",
              "      <td>2019-02-20 23:43:20</td>\n",
              "      <td>10.745660</td>\n",
              "    </tr>\n",
              "  </tbody>\n",
              "</table>\n",
              "<p>12086 rows × 3 columns</p>\n",
              "</div>"
            ],
            "text/plain": [
              "      tracking_id             datetime  windmill_generated_power(kW/h)\n",
              "0        WM_19817  2019-04-17 08:53:20                        2.907055\n",
              "1        WM_18723  2019-03-30 07:43:20                        2.781525\n",
              "2        WM_34552  2019-08-10 11:33:20                        3.892605\n",
              "3        WM_28570  2019-06-26 03:53:20                        6.980237\n",
              "4        WM_36934  2019-08-27 16:43:20                        3.666520\n",
              "...           ...                  ...                             ...\n",
              "12081    WM_13376  2019-02-12 11:33:20                        6.956239\n",
              "12082     WM_1630  2018-11-12 17:33:20                        4.371740\n",
              "12083    WM_24703  2019-05-27 11:53:20                        5.275447\n",
              "12084    WM_22893  2019-05-13 21:53:20                        5.550805\n",
              "12085    WM_14513  2019-02-20 23:43:20                       10.745660\n",
              "\n",
              "[12086 rows x 3 columns]"
            ]
          },
          "metadata": {
            "tags": []
          },
          "execution_count": 226
        }
      ]
    },
    {
      "cell_type": "code",
      "metadata": {
        "id": "cm_KqvTerv8m"
      },
      "source": [
        "finaldb_dt.to_csv(\"s2.csv\")"
      ],
      "execution_count": 227,
      "outputs": []
    },
    {
      "cell_type": "code",
      "metadata": {
        "id": "gzMOxXLar1vo"
      },
      "source": [
        "#SVM\n",
        "from sklearn import svm"
      ],
      "execution_count": 68,
      "outputs": []
    },
    {
      "cell_type": "code",
      "metadata": {
        "colab": {
          "base_uri": "https://localhost:8080/"
        },
        "id": "ymkeYrcXsPhG",
        "outputId": "2c9a2b79-afff-41ea-fdae-33e2a7e2b6a0"
      },
      "source": [
        "svmclf = svm.SVR(kernel='rbf',C=10,degree=6)\n",
        "svmclf.fit(x_train,y_train)\n",
        "svmclf.score(x_test,y_test)"
      ],
      "execution_count": 77,
      "outputs": [
        {
          "output_type": "stream",
          "text": [
            "/usr/local/lib/python3.7/dist-packages/sklearn/utils/validation.py:760: DataConversionWarning: A column-vector y was passed when a 1d array was expected. Please change the shape of y to (n_samples, ), for example using ravel().\n",
            "  y = column_or_1d(y, warn=True)\n"
          ],
          "name": "stderr"
        },
        {
          "output_type": "execute_result",
          "data": {
            "text/plain": [
              "0.5941627544201898"
            ]
          },
          "metadata": {
            "tags": []
          },
          "execution_count": 77
        }
      ]
    },
    {
      "cell_type": "code",
      "metadata": {
        "colab": {
          "base_uri": "https://localhost:8080/"
        },
        "id": "W83PlyphtJS5",
        "outputId": "3dfd5032-a8be-4d29-e7e6-113bc7f2d15b"
      },
      "source": [
        "from sklearn.neighbors import KNeighborsRegressor\n",
        "model_kn = KNeighborsRegressor()\n",
        "model_kn.fit(x_train,y_train)\n",
        "model_kn.score(x_test,y_test)"
      ],
      "execution_count": 76,
      "outputs": [
        {
          "output_type": "execute_result",
          "data": {
            "text/plain": [
              "0.32121638795984"
            ]
          },
          "metadata": {
            "tags": []
          },
          "execution_count": 76
        }
      ]
    },
    {
      "cell_type": "code",
      "metadata": {
        "colab": {
          "base_uri": "https://localhost:8080/"
        },
        "id": "nK9hqrKnvu0Z",
        "outputId": "1749f7cd-c336-4426-e94f-1f13adacfc95"
      },
      "source": [
        "from sklearn.linear_model import LassoCV\n",
        "model_lv = LassoCV()\n",
        "model_lv.fit(x_train, y_train)"
      ],
      "execution_count": 58,
      "outputs": [
        {
          "output_type": "stream",
          "text": [
            "/usr/local/lib/python3.7/dist-packages/sklearn/linear_model/_coordinate_descent.py:1088: DataConversionWarning: A column-vector y was passed when a 1d array was expected. Please change the shape of y to (n_samples, ), for example using ravel().\n",
            "  y = column_or_1d(y, warn=True)\n"
          ],
          "name": "stderr"
        },
        {
          "output_type": "execute_result",
          "data": {
            "text/plain": [
              "LassoCV(alphas=None, copy_X=True, cv=None, eps=0.001, fit_intercept=True,\n",
              "        max_iter=1000, n_alphas=100, n_jobs=None, normalize=False,\n",
              "        positive=False, precompute='auto', random_state=None,\n",
              "        selection='cyclic', tol=0.0001, verbose=False)"
            ]
          },
          "metadata": {
            "tags": []
          },
          "execution_count": 58
        }
      ]
    },
    {
      "cell_type": "code",
      "metadata": {
        "colab": {
          "base_uri": "https://localhost:8080/"
        },
        "id": "1ghtMh4Dv0p3",
        "outputId": "381792bb-c020-464d-82be-5e1b1e766a04"
      },
      "source": [
        "model_lv.score(x_test,y_test)"
      ],
      "execution_count": 59,
      "outputs": [
        {
          "output_type": "execute_result",
          "data": {
            "text/plain": [
              "0.3735789344674451"
            ]
          },
          "metadata": {
            "tags": []
          },
          "execution_count": 59
        }
      ]
    },
    {
      "cell_type": "code",
      "metadata": {
        "colab": {
          "base_uri": "https://localhost:8080/"
        },
        "id": "QsZBUiDYv4s4",
        "outputId": "10d63ea6-8595-4854-ec7b-aaec6d6586cd"
      },
      "source": [
        "from sklearn.linear_model import RidgeCV\n",
        "model_r = RidgeCV()\n",
        "model_r.fit(x_train, y_train)"
      ],
      "execution_count": 60,
      "outputs": [
        {
          "output_type": "execute_result",
          "data": {
            "text/plain": [
              "RidgeCV(alphas=array([ 0.1,  1. , 10. ]), cv=None, fit_intercept=True,\n",
              "        gcv_mode=None, normalize=False, scoring=None, store_cv_values=False)"
            ]
          },
          "metadata": {
            "tags": []
          },
          "execution_count": 60
        }
      ]
    },
    {
      "cell_type": "code",
      "metadata": {
        "colab": {
          "base_uri": "https://localhost:8080/"
        },
        "id": "X63iN0LmwBO-",
        "outputId": "ccd232ea-de69-42f7-a458-94c0db9a7c60"
      },
      "source": [
        "model_r.score(x_test,y_test)"
      ],
      "execution_count": 61,
      "outputs": [
        {
          "output_type": "execute_result",
          "data": {
            "text/plain": [
              "0.37162346692721615"
            ]
          },
          "metadata": {
            "tags": []
          },
          "execution_count": 61
        }
      ]
    },
    {
      "cell_type": "code",
      "metadata": {
        "colab": {
          "base_uri": "https://localhost:8080/"
        },
        "id": "HKcZiaAOwGqQ",
        "outputId": "42456a82-6f5d-4b3f-c29d-1b3ab57fb73b"
      },
      "source": [
        "from sklearn.linear_model import ElasticNetCV\n",
        "model_ev = ElasticNetCV()\n",
        "model_ev.fit(x_train, y_train)"
      ],
      "execution_count": 62,
      "outputs": [
        {
          "output_type": "stream",
          "text": [
            "/usr/local/lib/python3.7/dist-packages/sklearn/linear_model/_coordinate_descent.py:1088: DataConversionWarning: A column-vector y was passed when a 1d array was expected. Please change the shape of y to (n_samples, ), for example using ravel().\n",
            "  y = column_or_1d(y, warn=True)\n"
          ],
          "name": "stderr"
        },
        {
          "output_type": "execute_result",
          "data": {
            "text/plain": [
              "ElasticNetCV(alphas=None, copy_X=True, cv=None, eps=0.001, fit_intercept=True,\n",
              "             l1_ratio=0.5, max_iter=1000, n_alphas=100, n_jobs=None,\n",
              "             normalize=False, positive=False, precompute='auto',\n",
              "             random_state=None, selection='cyclic', tol=0.0001, verbose=0)"
            ]
          },
          "metadata": {
            "tags": []
          },
          "execution_count": 62
        }
      ]
    },
    {
      "cell_type": "code",
      "metadata": {
        "colab": {
          "base_uri": "https://localhost:8080/"
        },
        "id": "8IYqTlLXwLA4",
        "outputId": "04b9255c-c4b2-4efc-8823-7e3d202fd3f1"
      },
      "source": [
        "model_ev.score(x_test,y_test)"
      ],
      "execution_count": 63,
      "outputs": [
        {
          "output_type": "execute_result",
          "data": {
            "text/plain": [
              "0.37222362707207796"
            ]
          },
          "metadata": {
            "tags": []
          },
          "execution_count": 63
        }
      ]
    },
    {
      "cell_type": "code",
      "metadata": {
        "colab": {
          "base_uri": "https://localhost:8080/"
        },
        "id": "lGU-B3RnwOqn",
        "outputId": "f1203f3e-ee9b-43f7-d8e7-39f0fb50fd1a"
      },
      "source": [
        "from sklearn.naive_bayes import GaussianNB\n",
        "model_gnb = GaussianNB()\n",
        "model_gnb.fit(x_train.astype(\"int\"),y_train.astype(\"int\"))\n",
        "model_gnb.score(x_test.astype(\"int\"),y_test.astype(\"int\"))"
      ],
      "execution_count": 64,
      "outputs": [
        {
          "output_type": "stream",
          "text": [
            "/usr/local/lib/python3.7/dist-packages/sklearn/naive_bayes.py:206: DataConversionWarning: A column-vector y was passed when a 1d array was expected. Please change the shape of y to (n_samples, ), for example using ravel().\n",
            "  y = column_or_1d(y, warn=True)\n"
          ],
          "name": "stderr"
        },
        {
          "output_type": "execute_result",
          "data": {
            "text/plain": [
              "0.26745718050065875"
            ]
          },
          "metadata": {
            "tags": []
          },
          "execution_count": 64
        }
      ]
    },
    {
      "cell_type": "code",
      "metadata": {
        "id": "hBCtarHQxuq7"
      },
      "source": [
        ""
      ],
      "execution_count": null,
      "outputs": []
    }
  ]
}