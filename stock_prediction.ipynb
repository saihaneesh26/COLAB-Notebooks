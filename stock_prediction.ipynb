{
  "nbformat": 4,
  "nbformat_minor": 0,
  "metadata": {
    "colab": {
      "name": "stock prediction.ipynb",
      "provenance": [],
      "authorship_tag": "ABX9TyO8shkKL1rGfTcB16ssBaiw"
    },
    "kernelspec": {
      "name": "python3",
      "display_name": "Python 3"
    }
  },
  "cells": [
    {
      "cell_type": "code",
      "metadata": {
        "id": "IWcv-yEIf6A4"
      },
      "source": [
        "import numpy as np\n",
        "import pandas as pd\n",
        "import pandas_datareader as web\n",
        "import math\n",
        "import matplotlib.pyplot as plt\n",
        "from sklearn.preprocessing import MinMaxScaler \n",
        "plt.style.use('fivethirtyeight')"
      ],
      "execution_count": 1,
      "outputs": []
    },
    {
      "cell_type": "code",
      "metadata": {
        "id": "Rq6fw3bMga4E",
        "outputId": "172321c4-b95c-43bc-c3bd-5006da42652b",
        "colab": {
          "base_uri": "https://localhost:8080/",
          "height": 431
        }
      },
      "source": [
        "#getting the stocks datasets\n",
        "df = web.DataReader('INDUSINDBK.NS',data_source='yahoo',start='2020-06-01',end='2020-10-29')\n",
        "#show the dataset\n",
        "df"
      ],
      "execution_count": 51,
      "outputs": [
        {
          "output_type": "execute_result",
          "data": {
            "text/html": [
              "<div>\n",
              "<style scoped>\n",
              "    .dataframe tbody tr th:only-of-type {\n",
              "        vertical-align: middle;\n",
              "    }\n",
              "\n",
              "    .dataframe tbody tr th {\n",
              "        vertical-align: top;\n",
              "    }\n",
              "\n",
              "    .dataframe thead th {\n",
              "        text-align: right;\n",
              "    }\n",
              "</style>\n",
              "<table border=\"1\" class=\"dataframe\">\n",
              "  <thead>\n",
              "    <tr style=\"text-align: right;\">\n",
              "      <th></th>\n",
              "      <th>High</th>\n",
              "      <th>Low</th>\n",
              "      <th>Open</th>\n",
              "      <th>Close</th>\n",
              "      <th>Volume</th>\n",
              "      <th>Adj Close</th>\n",
              "    </tr>\n",
              "    <tr>\n",
              "      <th>Date</th>\n",
              "      <th></th>\n",
              "      <th></th>\n",
              "      <th></th>\n",
              "      <th></th>\n",
              "      <th></th>\n",
              "      <th></th>\n",
              "    </tr>\n",
              "  </thead>\n",
              "  <tbody>\n",
              "    <tr>\n",
              "      <th>2020-06-01</th>\n",
              "      <td>416.799988</td>\n",
              "      <td>401.049988</td>\n",
              "      <td>402.299988</td>\n",
              "      <td>410.100006</td>\n",
              "      <td>22990598</td>\n",
              "      <td>410.100006</td>\n",
              "    </tr>\n",
              "    <tr>\n",
              "      <th>2020-06-02</th>\n",
              "      <td>438.899994</td>\n",
              "      <td>404.250000</td>\n",
              "      <td>414.000000</td>\n",
              "      <td>434.700012</td>\n",
              "      <td>28744172</td>\n",
              "      <td>434.700012</td>\n",
              "    </tr>\n",
              "    <tr>\n",
              "      <th>2020-06-03</th>\n",
              "      <td>452.250000</td>\n",
              "      <td>426.100006</td>\n",
              "      <td>445.000000</td>\n",
              "      <td>432.350006</td>\n",
              "      <td>27908796</td>\n",
              "      <td>432.350006</td>\n",
              "    </tr>\n",
              "    <tr>\n",
              "      <th>2020-06-04</th>\n",
              "      <td>434.850006</td>\n",
              "      <td>405.000000</td>\n",
              "      <td>424.850006</td>\n",
              "      <td>415.049988</td>\n",
              "      <td>25795376</td>\n",
              "      <td>415.049988</td>\n",
              "    </tr>\n",
              "    <tr>\n",
              "      <th>2020-06-05</th>\n",
              "      <td>427.299988</td>\n",
              "      <td>411.200012</td>\n",
              "      <td>417.200012</td>\n",
              "      <td>422.350006</td>\n",
              "      <td>26349793</td>\n",
              "      <td>422.350006</td>\n",
              "    </tr>\n",
              "    <tr>\n",
              "      <th>...</th>\n",
              "      <td>...</td>\n",
              "      <td>...</td>\n",
              "      <td>...</td>\n",
              "      <td>...</td>\n",
              "      <td>...</td>\n",
              "      <td>...</td>\n",
              "    </tr>\n",
              "    <tr>\n",
              "      <th>2020-10-26</th>\n",
              "      <td>633.299988</td>\n",
              "      <td>613.549988</td>\n",
              "      <td>617.000000</td>\n",
              "      <td>616.650024</td>\n",
              "      <td>17438151</td>\n",
              "      <td>616.650024</td>\n",
              "    </tr>\n",
              "    <tr>\n",
              "      <th>2020-10-27</th>\n",
              "      <td>623.400024</td>\n",
              "      <td>595.099976</td>\n",
              "      <td>616.599976</td>\n",
              "      <td>614.000000</td>\n",
              "      <td>15012129</td>\n",
              "      <td>614.000000</td>\n",
              "    </tr>\n",
              "    <tr>\n",
              "      <th>2020-10-28</th>\n",
              "      <td>615.950012</td>\n",
              "      <td>586.099976</td>\n",
              "      <td>614.500000</td>\n",
              "      <td>592.849976</td>\n",
              "      <td>14933120</td>\n",
              "      <td>592.849976</td>\n",
              "    </tr>\n",
              "    <tr>\n",
              "      <th>2020-10-29</th>\n",
              "      <td>599.799988</td>\n",
              "      <td>571.000000</td>\n",
              "      <td>585.000000</td>\n",
              "      <td>588.700012</td>\n",
              "      <td>16511146</td>\n",
              "      <td>588.700012</td>\n",
              "    </tr>\n",
              "    <tr>\n",
              "      <th>2020-10-30</th>\n",
              "      <td>602.000000</td>\n",
              "      <td>586.299988</td>\n",
              "      <td>592.000000</td>\n",
              "      <td>592.200012</td>\n",
              "      <td>7528162</td>\n",
              "      <td>592.200012</td>\n",
              "    </tr>\n",
              "  </tbody>\n",
              "</table>\n",
              "<p>109 rows × 6 columns</p>\n",
              "</div>"
            ],
            "text/plain": [
              "                  High         Low  ...    Volume   Adj Close\n",
              "Date                                ...                      \n",
              "2020-06-01  416.799988  401.049988  ...  22990598  410.100006\n",
              "2020-06-02  438.899994  404.250000  ...  28744172  434.700012\n",
              "2020-06-03  452.250000  426.100006  ...  27908796  432.350006\n",
              "2020-06-04  434.850006  405.000000  ...  25795376  415.049988\n",
              "2020-06-05  427.299988  411.200012  ...  26349793  422.350006\n",
              "...                ...         ...  ...       ...         ...\n",
              "2020-10-26  633.299988  613.549988  ...  17438151  616.650024\n",
              "2020-10-27  623.400024  595.099976  ...  15012129  614.000000\n",
              "2020-10-28  615.950012  586.099976  ...  14933120  592.849976\n",
              "2020-10-29  599.799988  571.000000  ...  16511146  588.700012\n",
              "2020-10-30  602.000000  586.299988  ...   7528162  592.200012\n",
              "\n",
              "[109 rows x 6 columns]"
            ]
          },
          "metadata": {
            "tags": []
          },
          "execution_count": 51
        }
      ]
    },
    {
      "cell_type": "code",
      "metadata": {
        "id": "ydwCsRvmhClZ",
        "outputId": "9b6f8399-4f71-434c-e68e-8e4f95a0d229",
        "colab": {
          "base_uri": "https://localhost:8080/"
        }
      },
      "source": [
        "df.shape"
      ],
      "execution_count": 52,
      "outputs": [
        {
          "output_type": "execute_result",
          "data": {
            "text/plain": [
              "(109, 6)"
            ]
          },
          "metadata": {
            "tags": []
          },
          "execution_count": 52
        }
      ]
    },
    {
      "cell_type": "code",
      "metadata": {
        "id": "ghWYKftihSuL",
        "outputId": "96c55bf0-464f-405a-ef04-6497658003bf",
        "colab": {
          "base_uri": "https://localhost:8080/",
          "height": 513
        }
      },
      "source": [
        "#visualize the closing prices\n",
        "plt.figure(figsize=(16,8))\n",
        "plt.title('closing price')\n",
        "plt.plot(df['Close'])\n",
        "plt.xlabel('Date')\n",
        "plt.ylabel('Closing price INR')\n",
        "plt.show()"
      ],
      "execution_count": 53,
      "outputs": [
        {
          "output_type": "display_data",
          "data": {
            "image/png": "[encoded data removed]",
            "text/plain": [
              "<Figure size 1152x576 with 1 Axes>"
            ]
          },
          "metadata": {
            "tags": [],
            "needs_background": "light"
          }
        }
      ]
    },
    {
      "cell_type": "code",
      "metadata": {
        "id": "zkxOpxhlhzmA",
        "outputId": "8a0f9fa7-cbe8-454d-fcd3-f58fa4f8e482",
        "colab": {
          "base_uri": "https://localhost:8080/"
        }
      },
      "source": [
        "#create new database with only coloumns\n",
        "data=df.filter(['Close'])\n",
        "#convert the dataframe to numpy array\n",
        "dataset=data.values\n",
        "#get the number of rows to train\n",
        "training_data_len=math.ceil(len(dataset)*0.8)\n",
        "training_data_len"
      ],
      "execution_count": 54,
      "outputs": [
        {
          "output_type": "execute_result",
          "data": {
            "text/plain": [
              "88"
            ]
          },
          "metadata": {
            "tags": []
          },
          "execution_count": 54
        }
      ]
    },
    {
      "cell_type": "code",
      "metadata": {
        "id": "sLyctyWBjgPN",
        "outputId": "21ab5fbf-5128-423e-abf4-49480c3c4e9f",
        "colab": {
          "base_uri": "https://localhost:8080/"
        }
      },
      "source": [
        "#scale the data\n",
        "scaler=MinMaxScaler(feature_range=(0,1))\n",
        "scaled_data=scaler.fit_transform(dataset)\n",
        "scaled_data"
      ],
      "execution_count": 55,
      "outputs": [
        {
          "output_type": "execute_result",
          "data": {
            "text/plain": [
              "array([[0.        ],\n",
              "       [0.09626298],\n",
              "       [0.0870671 ],\n",
              "       [0.01936991],\n",
              "       [0.04793582],\n",
              "       [0.16239482],\n",
              "       [0.21052625],\n",
              "       [0.35022498],\n",
              "       [0.44237922],\n",
              "       [0.46311875],\n",
              "       [0.3148111 ],\n",
              "       [0.28057123],\n",
              "       [0.317159  ],\n",
              "       [0.34865975],\n",
              "       [0.28781054],\n",
              "       [0.31226759],\n",
              "       [0.43161812],\n",
              "       [0.28018001],\n",
              "       [0.25454895],\n",
              "       [0.32263735],\n",
              "       [0.27352764],\n",
              "       [0.25317933],\n",
              "       [0.32224614],\n",
              "       [0.33144189],\n",
              "       [0.30170221],\n",
              "       [0.33574636],\n",
              "       [0.45470543],\n",
              "       [0.55762066],\n",
              "       [0.57307756],\n",
              "       [0.50538049],\n",
              "       [0.50694584],\n",
              "       [0.39405194],\n",
              "       [0.36568176],\n",
              "       [0.4245743 ],\n",
              "       [0.43318323],\n",
              "       [0.46429264],\n",
              "       [0.44374872],\n",
              "       [0.40481305],\n",
              "       [0.40618279],\n",
              "       [0.43885731],\n",
              "       [0.37781249],\n",
              "       [0.45724906],\n",
              "       [0.54940318],\n",
              "       [0.42946571],\n",
              "       [0.444727  ],\n",
              "       [0.3637252 ],\n",
              "       [0.32283308],\n",
              "       [0.32342003],\n",
              "       [0.33183323],\n",
              "       [0.38700836],\n",
              "       [0.38837798],\n",
              "       [0.43787903],\n",
              "       [0.4325964 ],\n",
              "       [0.42516136],\n",
              "       [0.37996478],\n",
              "       [0.40324794],\n",
              "       [0.43631368],\n",
              "       [0.43846609],\n",
              "       [0.40422622],\n",
              "       [0.40481305],\n",
              "       [0.46585799],\n",
              "       [0.49461939],\n",
              "       [0.61651343],\n",
              "       [0.76599474],\n",
              "       [1.        ],\n",
              "       [0.86127956],\n",
              "       [0.85051845],\n",
              "       [0.90178034],\n",
              "       [0.86773607],\n",
              "       [0.80630015],\n",
              "       [0.7771473 ],\n",
              "       [0.74466838],\n",
              "       [0.76110333],\n",
              "       [0.82312655],\n",
              "       [0.78360382],\n",
              "       [0.77969069],\n",
              "       [0.87380161],\n",
              "       [0.82782236],\n",
              "       [0.81099571],\n",
              "       [0.79475637],\n",
              "       [0.58892568],\n",
              "       [0.52396785],\n",
              "       [0.46155341],\n",
              "       [0.31363721],\n",
              "       [0.40990007],\n",
              "       [0.56740348],\n",
              "       [0.49364111],\n",
              "       [0.45901002],\n",
              "       [0.71258068],\n",
              "       [0.74916833],\n",
              "       [0.83232231],\n",
              "       [0.81784369],\n",
              "       [0.81236545],\n",
              "       [0.83330059],\n",
              "       [0.79964779],\n",
              "       [0.77519073],\n",
              "       [0.83173548],\n",
              "       [0.73527678],\n",
              "       [0.77558195],\n",
              "       [0.84914871],\n",
              "       [0.84190952],\n",
              "       [0.85306184],\n",
              "       [0.77734291],\n",
              "       [0.77499512],\n",
              "       [0.80825671],\n",
              "       [0.79788683],\n",
              "       [0.71512407],\n",
              "       [0.69888473],\n",
              "       [0.71258068]])"
            ]
          },
          "metadata": {
            "tags": []
          },
          "execution_count": 55
        }
      ]
    },
    {
      "cell_type": "code",
      "metadata": {
        "id": "Fo35RfT2kB_Q"
      },
      "source": [
        "#create the training data\n",
        "#create scaled training dataset\n",
        "train_data = scaled_data[0:training_data_len, :]\n",
        "#split the data to x_train and y_train\n",
        "x_train=[]\n",
        "y_train=[]\n",
        "for i in range(60,len(train_data)):\n",
        "  x_train.append(train_data[i-60:i,0])\n",
        "  y_train.append(train_data[i,0])\n"
      ],
      "execution_count": 56,
      "outputs": []
    },
    {
      "cell_type": "code",
      "metadata": {
        "id": "fTXFifMjldIh"
      },
      "source": [
        "#convert x_train and y_train into numpy arrays\n",
        "x_train,y_train=np.array(x_train),np.array(y_train)"
      ],
      "execution_count": 57,
      "outputs": []
    },
    {
      "cell_type": "code",
      "metadata": {
        "id": "GQ6D0Bjzlw6C",
        "outputId": "8e0a5094-65f4-47d2-fe85-048a9bbb6c5c",
        "colab": {
          "base_uri": "https://localhost:8080/"
        }
      },
      "source": [
        "#reshape the data\n",
        "x_train = np.reshape(x_train,(x_train.shape[0],x_train.shape[1],1)) #np.reshape(x_train,(x_train.shape[0],x_train.shape[1],1))\n",
        "x_train.shape"
      ],
      "execution_count": 58,
      "outputs": [
        {
          "output_type": "execute_result",
          "data": {
            "text/plain": [
              "(28, 60, 1)"
            ]
          },
          "metadata": {
            "tags": []
          },
          "execution_count": 58
        }
      ]
    },
    {
      "cell_type": "code",
      "metadata": {
        "id": "VBzgFpWF12x1"
      },
      "source": [
        "#build LSTM model\n",
        "import tensorflow as tf\n",
        "from keras.models import Sequential\n",
        "from keras.layers import Dense, LSTM\n",
        "model= Sequential()\n",
        "model.add(LSTM(50,return_sequences=True,input_shape=(x_train.shape[1], 1)))\n",
        "model.add(LSTM(50,return_sequences=False))\n",
        "model.add(Dense(25))\n",
        "model.add(Dense(1))"
      ],
      "execution_count": 69,
      "outputs": []
    },
    {
      "cell_type": "code",
      "metadata": {
        "id": "yVAtKLo01299"
      },
      "source": [
        "#compile the model\n",
        "model.compile(optimizer='adam',loss='mean_squared_error')"
      ],
      "execution_count": 70,
      "outputs": []
    },
    {
      "cell_type": "code",
      "metadata": {
        "id": "49ZW1GxM13Jv",
        "outputId": "da8ef766-b796-4182-b07b-9974169ade28",
        "colab": {
          "base_uri": "https://localhost:8080/"
        }
      },
      "source": [
        "#train the model\n",
        "model.fit(x_train,y_train,epochs=15,verbose=True,steps_per_epoch=5)"
      ],
      "execution_count": 79,
      "outputs": [
        {
          "output_type": "stream",
          "text": [
            "Epoch 1/15\n",
            "5/5 [==============================] - 0s 30ms/step - loss: 0.0578\n",
            "Epoch 2/15\n",
            "5/5 [==============================] - 0s 31ms/step - loss: 0.0490\n",
            "Epoch 3/15\n",
            "5/5 [==============================] - 0s 34ms/step - loss: 0.0421\n",
            "Epoch 4/15\n",
            "5/5 [==============================] - 0s 30ms/step - loss: 0.0413\n",
            "Epoch 5/15\n",
            "5/5 [==============================] - 0s 32ms/step - loss: 0.0377\n",
            "Epoch 6/15\n",
            "5/5 [==============================] - 0s 45ms/step - loss: 0.0367\n",
            "Epoch 7/15\n",
            "5/5 [==============================] - 0s 32ms/step - loss: 0.0357\n",
            "Epoch 8/15\n",
            "5/5 [==============================] - 0s 32ms/step - loss: 0.0343\n",
            "Epoch 9/15\n",
            "5/5 [==============================] - 0s 31ms/step - loss: 0.0326\n",
            "Epoch 10/15\n",
            "5/5 [==============================] - 0s 31ms/step - loss: 0.0313\n",
            "Epoch 11/15\n",
            "5/5 [==============================] - 0s 31ms/step - loss: 0.0310\n",
            "Epoch 12/15\n",
            "5/5 [==============================] - 0s 31ms/step - loss: 0.0298\n",
            "Epoch 13/15\n",
            "5/5 [==============================] - 0s 33ms/step - loss: 0.0272\n",
            "Epoch 14/15\n",
            "5/5 [==============================] - 0s 33ms/step - loss: 0.0246\n",
            "Epoch 15/15\n",
            "5/5 [==============================] - 0s 30ms/step - loss: 0.0222\n"
          ],
          "name": "stdout"
        },
        {
          "output_type": "execute_result",
          "data": {
            "text/plain": [
              "<tensorflow.python.keras.callbacks.History at 0x7f24f3789f98>"
            ]
          },
          "metadata": {
            "tags": []
          },
          "execution_count": 79
        }
      ]
    },
    {
      "cell_type": "code",
      "metadata": {
        "id": "ALXAJAPZojcf"
      },
      "source": [
        "#create the testing dataset\n",
        "#createt new array\n",
        "test_data=scaled_data[training_data_len-60:, :]\n",
        "#create the dataset x_test and y_test\n",
        "x_test=[]\n",
        "y_test=dataset[training_data_len: , :]\n",
        "for i in range(60,len(test_data)):\n",
        "  x_test.append(test_data[i-60:i, 0])\n",
        "\n",
        "\n"
      ],
      "execution_count": 80,
      "outputs": []
    },
    {
      "cell_type": "code",
      "metadata": {
        "id": "-dhWbGB0pnYz"
      },
      "source": [
        "#convert the data to numpy \n",
        "x_test=np.array(x_test)\n"
      ],
      "execution_count": 81,
      "outputs": []
    },
    {
      "cell_type": "code",
      "metadata": {
        "id": "eErFj0j6pv7b"
      },
      "source": [
        "#reshape the data\n",
        "x_test=np.reshape(x_test,(x_test.shape[0],x_test.shape[1],1))"
      ],
      "execution_count": 82,
      "outputs": []
    },
    {
      "cell_type": "code",
      "metadata": {
        "id": "OgbP_Sefp-zQ"
      },
      "source": [
        "#get the model predicted value\n",
        "predictions =model.predict(x_test)\n",
        "predictions=scaler.inverse_transform(predictions)"
      ],
      "execution_count": 83,
      "outputs": []
    },
    {
      "cell_type": "code",
      "metadata": {
        "id": "RKUZ-XK0qtVX",
        "outputId": "26d0a22b-38f2-4816-afd3-f7f76f1eef52",
        "colab": {
          "base_uri": "https://localhost:8080/"
        }
      },
      "source": [
        "#geting the root_mean_squared error(RMSE)\n",
        "rmse=np.sqrt( np.mean(predictions-y_test)**2)\n",
        "rmse\n"
      ],
      "execution_count": 84,
      "outputs": [
        {
          "output_type": "execute_result",
          "data": {
            "text/plain": [
              "21.086864653087797"
            ]
          },
          "metadata": {
            "tags": []
          },
          "execution_count": 84
        }
      ]
    },
    {
      "cell_type": "code",
      "metadata": {
        "id": "iJQS0nforL_M",
        "outputId": "888c626c-18b8-4c5b-b532-8a20b4cc4db1",
        "colab": {
          "base_uri": "https://localhost:8080/"
        }
      },
      "source": [
        "#plot the data\n",
        "train=data[:training_data_len]\n",
        "valid=data[training_data_len:]\n",
        "valid['Predictions']=predictions"
      ],
      "execution_count": 85,
      "outputs": [
        {
          "output_type": "stream",
          "text": [
            "/usr/local/lib/python3.6/dist-packages/ipykernel_launcher.py:4: SettingWithCopyWarning: \n",
            "A value is trying to be set on a copy of a slice from a DataFrame.\n",
            "Try using .loc[row_indexer,col_indexer] = value instead\n",
            "\n",
            "See the caveats in the documentation: https://pandas.pydata.org/pandas-docs/stable/user_guide/indexing.html#returning-a-view-versus-a-copy\n",
            "  after removing the cwd from sys.path.\n"
          ],
          "name": "stderr"
        }
      ]
    },
    {
      "cell_type": "code",
      "metadata": {
        "id": "E1Z3wVgerg6b",
        "outputId": "f0852b21-e2d1-44a4-90f6-c44cbec0ca1f",
        "colab": {
          "base_uri": "https://localhost:8080/",
          "height": 513
        }
      },
      "source": [
        "#visualize the data\n",
        "plt.figure(figsize=(16,8))\n",
        "plt.title('Model')\n",
        "plt.xlabel('Data')\n",
        "plt.ylabel('Close prise INR')\n",
        "plt.plot(train['Close'])\n",
        "plt.plot(valid[['Close','Predictions']])\n",
        "plt.legend(['Train','val','Predictions'],loc='lower right')\n",
        "plt.show()"
      ],
      "execution_count": 86,
      "outputs": [
        {
          "output_type": "display_data",
          "data": {
            "image/png": "[encoded data removed]",
            "text/plain": [
              "<Figure size 1152x576 with 1 Axes>"
            ]
          },
          "metadata": {
            "tags": [],
            "needs_background": "light"
          }
        }
      ]
    },
    {
      "cell_type": "code",
      "metadata": {
        "id": "KjNhZIU_sFLr",
        "outputId": "06eec136-80c1-4161-8cae-358035dfe980",
        "colab": {
          "base_uri": "https://localhost:8080/",
          "height": 698
        }
      },
      "source": [
        "#show the valid and predicted value\n",
        "valid"
      ],
      "execution_count": 87,
      "outputs": [
        {
          "output_type": "execute_result",
          "data": {
            "text/html": [
              "<div>\n",
              "<style scoped>\n",
              "    .dataframe tbody tr th:only-of-type {\n",
              "        vertical-align: middle;\n",
              "    }\n",
              "\n",
              "    .dataframe tbody tr th {\n",
              "        vertical-align: top;\n",
              "    }\n",
              "\n",
              "    .dataframe thead th {\n",
              "        text-align: right;\n",
              "    }\n",
              "</style>\n",
              "<table border=\"1\" class=\"dataframe\">\n",
              "  <thead>\n",
              "    <tr style=\"text-align: right;\">\n",
              "      <th></th>\n",
              "      <th>Close</th>\n",
              "      <th>Predictions</th>\n",
              "    </tr>\n",
              "    <tr>\n",
              "      <th>Date</th>\n",
              "      <th></th>\n",
              "      <th></th>\n",
              "    </tr>\n",
              "  </thead>\n",
              "  <tbody>\n",
              "    <tr>\n",
              "      <th>2020-10-01</th>\n",
              "      <td>592.200012</td>\n",
              "      <td>549.760559</td>\n",
              "    </tr>\n",
              "    <tr>\n",
              "      <th>2020-10-05</th>\n",
              "      <td>601.549988</td>\n",
              "      <td>552.822449</td>\n",
              "    </tr>\n",
              "    <tr>\n",
              "      <th>2020-10-06</th>\n",
              "      <td>622.799988</td>\n",
              "      <td>558.888489</td>\n",
              "    </tr>\n",
              "    <tr>\n",
              "      <th>2020-10-07</th>\n",
              "      <td>619.099976</td>\n",
              "      <td>567.560486</td>\n",
              "    </tr>\n",
              "    <tr>\n",
              "      <th>2020-10-08</th>\n",
              "      <td>617.700012</td>\n",
              "      <td>576.676697</td>\n",
              "    </tr>\n",
              "    <tr>\n",
              "      <th>2020-10-09</th>\n",
              "      <td>623.049988</td>\n",
              "      <td>585.093811</td>\n",
              "    </tr>\n",
              "    <tr>\n",
              "      <th>2020-10-12</th>\n",
              "      <td>614.450012</td>\n",
              "      <td>592.559082</td>\n",
              "    </tr>\n",
              "    <tr>\n",
              "      <th>2020-10-13</th>\n",
              "      <td>608.200012</td>\n",
              "      <td>598.048889</td>\n",
              "    </tr>\n",
              "    <tr>\n",
              "      <th>2020-10-14</th>\n",
              "      <td>622.650024</td>\n",
              "      <td>601.369324</td>\n",
              "    </tr>\n",
              "    <tr>\n",
              "      <th>2020-10-15</th>\n",
              "      <td>598.000000</td>\n",
              "      <td>603.918152</td>\n",
              "    </tr>\n",
              "    <tr>\n",
              "      <th>2020-10-16</th>\n",
              "      <td>608.299988</td>\n",
              "      <td>603.963867</td>\n",
              "    </tr>\n",
              "    <tr>\n",
              "      <th>2020-10-19</th>\n",
              "      <td>627.099976</td>\n",
              "      <td>603.244263</td>\n",
              "    </tr>\n",
              "    <tr>\n",
              "      <th>2020-10-20</th>\n",
              "      <td>625.250000</td>\n",
              "      <td>603.148743</td>\n",
              "    </tr>\n",
              "    <tr>\n",
              "      <th>2020-10-21</th>\n",
              "      <td>628.099976</td>\n",
              "      <td>603.085449</td>\n",
              "    </tr>\n",
              "    <tr>\n",
              "      <th>2020-10-22</th>\n",
              "      <td>608.750000</td>\n",
              "      <td>603.148071</td>\n",
              "    </tr>\n",
              "    <tr>\n",
              "      <th>2020-10-23</th>\n",
              "      <td>608.150024</td>\n",
              "      <td>601.941711</td>\n",
              "    </tr>\n",
              "    <tr>\n",
              "      <th>2020-10-26</th>\n",
              "      <td>616.650024</td>\n",
              "      <td>600.129150</td>\n",
              "    </tr>\n",
              "    <tr>\n",
              "      <th>2020-10-27</th>\n",
              "      <td>614.000000</td>\n",
              "      <td>598.609253</td>\n",
              "    </tr>\n",
              "    <tr>\n",
              "      <th>2020-10-28</th>\n",
              "      <td>592.849976</td>\n",
              "      <td>597.137817</td>\n",
              "    </tr>\n",
              "    <tr>\n",
              "      <th>2020-10-29</th>\n",
              "      <td>588.700012</td>\n",
              "      <td>594.503113</td>\n",
              "    </tr>\n",
              "    <tr>\n",
              "      <th>2020-10-30</th>\n",
              "      <td>592.200012</td>\n",
              "      <td>591.316467</td>\n",
              "    </tr>\n",
              "  </tbody>\n",
              "</table>\n",
              "</div>"
            ],
            "text/plain": [
              "                 Close  Predictions\n",
              "Date                               \n",
              "2020-10-01  592.200012   549.760559\n",
              "2020-10-05  601.549988   552.822449\n",
              "2020-10-06  622.799988   558.888489\n",
              "2020-10-07  619.099976   567.560486\n",
              "2020-10-08  617.700012   576.676697\n",
              "2020-10-09  623.049988   585.093811\n",
              "2020-10-12  614.450012   592.559082\n",
              "2020-10-13  608.200012   598.048889\n",
              "2020-10-14  622.650024   601.369324\n",
              "2020-10-15  598.000000   603.918152\n",
              "2020-10-16  608.299988   603.963867\n",
              "2020-10-19  627.099976   603.244263\n",
              "2020-10-20  625.250000   603.148743\n",
              "2020-10-21  628.099976   603.085449\n",
              "2020-10-22  608.750000   603.148071\n",
              "2020-10-23  608.150024   601.941711\n",
              "2020-10-26  616.650024   600.129150\n",
              "2020-10-27  614.000000   598.609253\n",
              "2020-10-28  592.849976   597.137817\n",
              "2020-10-29  588.700012   594.503113\n",
              "2020-10-30  592.200012   591.316467"
            ]
          },
          "metadata": {
            "tags": []
          },
          "execution_count": 87
        }
      ]
    },
    {
      "cell_type": "code",
      "metadata": {
        "id": "2UXuQelBujtZ",
        "outputId": "f0658094-7b0c-4292-b5a1-d1d30c0e067b",
        "colab": {
          "base_uri": "https://localhost:8080/"
        }
      },
      "source": [
        "#get the quote\n",
        "sbi_quote=web.DataReader('SBIN.NS',data_source='yahoo',start='2020-01-15', end='2020-10-29')\n",
        "new_df=sbi_quote.filter(['Close'])\n",
        "last_60_days=new_df[-60:].values\n",
        "last_60_days_scaled=scaler.transform(last_60_days)\n",
        "x_test=[]\n",
        "x_test.append(last_60_days_scaled)\n",
        "x_test=np.array(x_test)\n",
        "x_test=np.reshape(x_test,(x_test.shape[0],x_test.shape[1],1))\n",
        "pred_price=model.predict(x_test)\n",
        "pred_price=scaler.inverse_transform(pred_price)\n",
        "print(pred_price)"
      ],
      "execution_count": 88,
      "outputs": [
        {
          "output_type": "stream",
          "text": [
            "[[369.50497]]\n"
          ],
          "name": "stdout"
        }
      ]
    },
    {
      "cell_type": "code",
      "metadata": {
        "id": "t4rAgcN7xzRh",
        "outputId": "455166b8-7169-4125-ef1a-6efc92e840c4",
        "colab": {
          "base_uri": "https://localhost:8080/"
        }
      },
      "source": [
        "sbi_quote2=web.DataReader('SBIN.NS',data_source='yahoo',start='2020-04-20', end='2020-10-30')\n",
        "print(sbi_quote2['Close'])"
      ],
      "execution_count": 90,
      "outputs": [
        {
          "output_type": "stream",
          "text": [
            "Date\n",
            "2020-04-20    192.500000\n",
            "2020-04-21    184.750000\n",
            "2020-04-22    188.699997\n",
            "2020-04-23    186.699997\n",
            "2020-04-24    179.750000\n",
            "                 ...    \n",
            "2020-10-26    196.699997\n",
            "2020-10-27    194.649994\n",
            "2020-10-28    190.449997\n",
            "2020-10-29    188.699997\n",
            "2020-10-30    189.300003\n",
            "Name: Close, Length: 137, dtype: float64\n"
          ],
          "name": "stdout"
        }
      ]
    },
    {
      "cell_type": "code",
      "metadata": {
        "id": "SHfh7NDhzhm-"
      },
      "source": [
        ""
      ],
      "execution_count": null,
      "outputs": []
    }
  ]
}