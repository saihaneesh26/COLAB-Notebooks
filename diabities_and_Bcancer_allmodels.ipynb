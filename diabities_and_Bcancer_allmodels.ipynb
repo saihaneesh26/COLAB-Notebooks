{
  "nbformat": 4,
  "nbformat_minor": 0,
  "metadata": {
    "colab": {
      "name": "diabities dataset.ipynb",
      "provenance": [],
      "collapsed_sections": [],
      "authorship_tag": "ABX9TyMQNY791HowRUbniqjOPpki",
      "include_colab_link": true
    },
    "kernelspec": {
      "name": "python3",
      "display_name": "Python 3"
    }
  },
  "cells": [
    {
      "cell_type": "markdown",
      "metadata": {
        "id": "view-in-github",
        "colab_type": "text"
      },
      "source": [
        "<a href=\"https://colab.research.google.com/github/saihaneesh26/COLAB-Notebooks/blob/main/diabities_and_Bcancer_allmodels.ipynb\" target=\"_parent\"><img src=\"https://colab.research.google.com/assets/colab-badge.svg\" alt=\"Open In Colab\"/></a>"
      ]
    },
    {
      "cell_type": "code",
      "metadata": {
        "id": "EYRSJ164pqa8"
      },
      "source": [
        "import numpy as np\n",
        "import pandas as pd\n",
        "import tensorflow as tf\n",
        "from sklearn.datasets import load_diabetes,load_breast_cancer\n",
        "from sklearn.model_selection import train_test_split"
      ],
      "execution_count": 54,
      "outputs": []
    },
    {
      "cell_type": "code",
      "metadata": {
        "id": "g5CUM-FBqloL"
      },
      "source": [
        "data_diabetes=load_diabetes(return_X_y=True)\n",
        "data_cancer=load_breast_cancer(return_X_y=True)\n",
        "x_train_c,x_test_c,y_train_c,y_test_c=train_test_split(data_cancer[0],data_cancer[1])\n",
        "x_train_d,x_test_d,y_train_d,y_test_d=train_test_split(data_diabetes[0],data_diabetes[1])"
      ],
      "execution_count": 59,
      "outputs": []
    },
    {
      "cell_type": "code",
      "metadata": {
        "id": "s685143PzidQ"
      },
      "source": [
        "acc_cancer=dict()\n",
        "acc_diabetes=dict()"
      ],
      "execution_count": 81,
      "outputs": []
    },
    {
      "cell_type": "code",
      "metadata": {
        "colab": {
          "base_uri": "https://localhost:8080/"
        },
        "id": "MyopzszMtQvR",
        "outputId": "a6069673-74f1-4fe9-c52a-5dbed09a196a"
      },
      "source": [
        "#knearest neighbours ---regressor problem\n",
        "from sklearn.neighbors import KNeighborsRegressor\n",
        "knn_reg_c=KNeighborsRegressor(n_neighbors=10)\n",
        "knn_reg_c.fit(x_train_c,y_train_c)"
      ],
      "execution_count": 72,
      "outputs": [
        {
          "output_type": "execute_result",
          "data": {
            "text/plain": [
              "KNeighborsRegressor(algorithm='auto', leaf_size=30, metric='minkowski',\n",
              "                    metric_params=None, n_jobs=None, n_neighbors=10, p=2,\n",
              "                    weights='uniform')"
            ]
          },
          "metadata": {
            "tags": []
          },
          "execution_count": 72
        }
      ]
    },
    {
      "cell_type": "code",
      "metadata": {
        "id": "V79vDhAquIHK"
      },
      "source": [
        "knn_reg_c.score(x_test_c,y_test_c)\n",
        "acc_cancer[\"knn\"]=knn_reg_c.score(x_test_c,y_test_c)"
      ],
      "execution_count": 89,
      "outputs": []
    },
    {
      "cell_type": "code",
      "metadata": {
        "id": "lEbKGlLjurOQ"
      },
      "source": [
        "knn_reg_d=KNeighborsRegressor(n_neighbors=10)\n",
        "knn_reg_d.fit(x_train_d,y_train_d)\n",
        "acc_diabetes[\"knn\"]=knn_reg_d.score(x_test_d,y_test_d)"
      ],
      "execution_count": 85,
      "outputs": []
    },
    {
      "cell_type": "code",
      "metadata": {
        "id": "Is8vAx_LydXV"
      },
      "source": [
        "#linear regression\n",
        "from sklearn.linear_model import LinearRegression\n",
        "lin_reg_c=LinearRegression().fit(x_train_c,y_train_c)\n",
        "acc_cancer[\"linreg\"]=lin_reg_c.score(x_test_c,y_test_c)"
      ],
      "execution_count": 86,
      "outputs": []
    },
    {
      "cell_type": "code",
      "metadata": {
        "id": "1gLTIp2_zLRg"
      },
      "source": [
        "lin_reg_d=LinearRegression().fit(x_train_d,y_train_d)\n",
        "acc_diabetes[\"linreg\"]=lin_reg_d.score(x_test_d,y_test_d)"
      ],
      "execution_count": 87,
      "outputs": []
    },
    {
      "cell_type": "code",
      "metadata": {
        "id": "XQt8iNlZ1cPo"
      },
      "source": [
        "#L2 regularization LR\n",
        "from sklearn.linear_model import Ridge\n",
        "ridge_c=Ridge().fit(x_train_c,y_train_c)\n",
        "acc_cancer[\"l2\"]=ridge_c.score(x_test_c,y_test_c)"
      ],
      "execution_count": 96,
      "outputs": []
    },
    {
      "cell_type": "code",
      "metadata": {
        "id": "jBhiHDWB1cTF"
      },
      "source": [
        "ridge_d=Ridge().fit(x_train_d,y_train_d)\n",
        "acc_diabetes[\"l2\"]=ridge_d.score(x_test_d,y_test_d)"
      ],
      "execution_count": 97,
      "outputs": []
    },
    {
      "cell_type": "code",
      "metadata": {
        "id": "LAG6vTWH1ciH"
      },
      "source": [
        "#L1 regularization LR\n",
        "from sklearn.linear_model import Lasso\n",
        "lasso_c=Lasso().fit(x_train_c,y_train_c)\n",
        "acc_cancer[\"l1\"]=lasso_c.score(x_test_c,y_test_c)"
      ],
      "execution_count": 99,
      "outputs": []
    },
    {
      "cell_type": "code",
      "metadata": {
        "id": "a-AcyUyG1clg"
      },
      "source": [
        "lasso_d=Lasso().fit(x_train_d,y_train_d)\n",
        "acc_diabetes[\"l1\"]=lasso_d.score(x_test_d,y_test_d)"
      ],
      "execution_count": 100,
      "outputs": []
    },
    {
      "cell_type": "code",
      "metadata": {
        "colab": {
          "base_uri": "https://localhost:8080/"
        },
        "id": "F6KICt2IzVf4",
        "outputId": "1fa356eb-a477-478e-c2de-f50b5e760460"
      },
      "source": [
        "#SVM\n",
        "from sklearn.svm import LinearSVC\n",
        "svc_d=LinearSVC(C=100).fit(x_train_d,y_train_d)\n",
        "acc_diabetes[\"svm_C-100\"]=svc_d.score(x_test_d,y_test_d)"
      ],
      "execution_count": 119,
      "outputs": [
        {
          "output_type": "stream",
          "text": [
            "/usr/local/lib/python3.7/dist-packages/sklearn/svm/_base.py:947: ConvergenceWarning: Liblinear failed to converge, increase the number of iterations.\n",
            "  \"the number of iterations.\", ConvergenceWarning)\n"
          ],
          "name": "stderr"
        }
      ]
    },
    {
      "cell_type": "code",
      "metadata": {
        "colab": {
          "base_uri": "https://localhost:8080/"
        },
        "id": "aYq8ptfv2pqA",
        "outputId": "827cd6e3-46bc-4ca1-b9c3-b4395cde162e"
      },
      "source": [
        "svc_c=LinearSVC(C=100).fit(x_train_c,y_train_c)\n",
        "acc_cancer[\"svm_c-100\"]=svc_c.score(x_test_c,y_test_c)"
      ],
      "execution_count": 120,
      "outputs": [
        {
          "output_type": "stream",
          "text": [
            "/usr/local/lib/python3.7/dist-packages/sklearn/svm/_base.py:947: ConvergenceWarning: Liblinear failed to converge, increase the number of iterations.\n",
            "  \"the number of iterations.\", ConvergenceWarning)\n"
          ],
          "name": "stderr"
        }
      ]
    },
    {
      "cell_type": "code",
      "metadata": {
        "colab": {
          "base_uri": "https://localhost:8080/"
        },
        "id": "USfgYMUy3RvG",
        "outputId": "07150f32-94e6-4ff2-e1f6-ed9ed689a440"
      },
      "source": [
        "acc_cancer,acc_diabetes"
      ],
      "execution_count": 121,
      "outputs": [
        {
          "output_type": "execute_result",
          "data": {
            "text/plain": [
              "({'knn': 0.7855875152998776,\n",
              "  'l1': 0.5258508911060894,\n",
              "  'l2': 0.7155781585944976,\n",
              "  'linreg': 0.7578345933136736,\n",
              "  'svm': 0.9300699300699301,\n",
              "  'svm_c-10': 0.6923076923076923,\n",
              "  'svm_c-100': 0.9300699300699301},\n",
              " {'knn': 0.49154612732367253,\n",
              "  'l1': 0.3537454416501401,\n",
              "  'l2': 0.45336020880190936,\n",
              "  'linreg': 0.6079603252975752,\n",
              "  'svm': 0.036036036036036036,\n",
              "  'svm_C-10': 0.02702702702702703,\n",
              "  'svm_C-100': 0.02702702702702703})"
            ]
          },
          "metadata": {
            "tags": []
          },
          "execution_count": 121
        }
      ]
    },
    {
      "cell_type": "code",
      "metadata": {
        "id": "EqHAtAdp3oPA"
      },
      "source": [
        "#decision tree \n",
        "from sklearn.tree import DecisionTreeRegressor\n",
        "dt_c=DecisionTreeRegressor().fit(x_train_c,y_train_c)\n",
        "acc_cancer[\"dt\"]=dt_c.score(x_test_c,y_test_c)"
      ],
      "execution_count": 122,
      "outputs": []
    },
    {
      "cell_type": "code",
      "metadata": {
        "id": "a4tDcdpg8RLH"
      },
      "source": [
        "dt_d=DecisionTreeRegressor().fit(x_train_d,y_train_d)\n",
        "acc_diabetes[\"dt\"]=dt_d.score(x_test_d,y_test_d)"
      ],
      "execution_count": 139,
      "outputs": []
    },
    {
      "cell_type": "code",
      "metadata": {
        "id": "01jJ-whp8XlF"
      },
      "source": [
        "#random forest\n",
        "from sklearn.ensemble import RandomForestRegressor\n",
        "rf_c=RandomForestRegressor(n_estimators=10).fit(x_train_c,y_train_c)\n",
        "acc_cancer[\"rf_n=10\"]=rf_c.score(x_test_c,y_test_c)"
      ],
      "execution_count": 127,
      "outputs": []
    },
    {
      "cell_type": "code",
      "metadata": {
        "id": "Hxjt2ovV8yep"
      },
      "source": [
        "rf_d=RandomForestRegressor().fit(x_train_d,y_train_d)\n",
        "acc_diabetes[\"rf\"]=rf_d.score(x_test_d,y_test_d)"
      ],
      "execution_count": 129,
      "outputs": []
    },
    {
      "cell_type": "code",
      "metadata": {
        "colab": {
          "base_uri": "https://localhost:8080/"
        },
        "id": "Z8rObMgr839v",
        "outputId": "80ed9699-65e3-4a55-ef50-09c16f2b057e"
      },
      "source": [
        "acc_cancer,acc_diabetes"
      ],
      "execution_count": 148,
      "outputs": [
        {
          "output_type": "execute_result",
          "data": {
            "text/plain": [
              "({'dt': 0.737454100367197,\n",
              "  'knn': 0.7855875152998776,\n",
              "  'l1': 0.5258508911060894,\n",
              "  'l2': 0.7155781585944976,\n",
              "  'linreg': 0.7578345933136736,\n",
              "  'rf': 0.9003142390860873,\n",
              "  'rf_n=10': 0.8649347205222357,\n",
              "  'svm': 0.9300699300699301,\n",
              "  'svm_c-10': 0.6923076923076923,\n",
              "  'svm_c-100': 0.9300699300699301},\n",
              " {'dt': -0.07049147866097849,\n",
              "  'knn': 0.49154612732367253,\n",
              "  'l1': 0.3537454416501401,\n",
              "  'l2': 0.45336020880190936,\n",
              "  'linreg': 0.6079603252975752,\n",
              "  'rf': 0.5054583358759455,\n",
              "  'rf_n=10': 0.5445280742089794,\n",
              "  'svm': 0.036036036036036036,\n",
              "  'svm_C-10': 0.02702702702702703,\n",
              "  'svm_C-100': 0.02702702702702703})"
            ]
          },
          "metadata": {
            "tags": []
          },
          "execution_count": 148
        }
      ]
    },
    {
      "cell_type": "code",
      "metadata": {
        "colab": {
          "base_uri": "https://localhost:8080/"
        },
        "id": "x6UE3MKq9eZp",
        "outputId": "36e1b653-b7a6-4f4e-a972-ca507ec799f4"
      },
      "source": [
        "from sklearn.svm import SVC\n",
        "svc=SVC().fit(x_train_c,y_train_c)\n",
        "svc.score(x_test_c,y_test_c)"
      ],
      "execution_count": 147,
      "outputs": [
        {
          "output_type": "execute_result",
          "data": {
            "text/plain": [
              "0.916083916083916"
            ]
          },
          "metadata": {
            "tags": []
          },
          "execution_count": 147
        }
      ]
    },
    {
      "cell_type": "code",
      "metadata": {
        "id": "t_l6LCqz-RV5"
      },
      "source": [
        ""
      ],
      "execution_count": null,
      "outputs": []
    }
  ]
}